{
 "cells": [
  {
   "cell_type": "code",
   "execution_count": 2,
   "metadata": {},
   "outputs": [],
   "source": [
    "import pandas as pd\n",
    "import ipywidgets as widgets\n",
    "from IPython.display import display\n",
    "\n",
    "\n",
    "\n",
    "pd.set_option('display.max_columns', None)\n",
    "\n",
    "import warnings\n",
    "\n",
    "warnings.filterwarnings(\"ignore\")"
   ]
  },
  {
   "cell_type": "code",
   "execution_count": 3,
   "metadata": {},
   "outputs": [],
   "source": [
    "basepath = \"../data/\"\n",
    "# Load county level suitability data\n",
    "suitability_county = pd.read_csv(basepath + \"suitability_scores/suitability_scores_county.csv\", dtype={\"GEOID\": str})\n",
    "\n",
    "# Load block group data\n",
    "suitability_block_group = pd.read_csv(basepath + \"suitability_scores/suitability_scores_county.csv\", dtype={\"GEOID\": str})\n",
    "\n",
    "# Load Project suitability data\n",
    "project_suitability = pd.read_csv(basepath + \"suitability_scores/suitability_scores_project.csv\", dtype={\"GEOID\": str})"
   ]
  },
  {
   "cell_type": "code",
   "execution_count": null,
   "metadata": {},
   "outputs": [],
   "source": []
  }
 ],
 "metadata": {
  "kernelspec": {
   "display_name": "PowerLab",
   "language": "python",
   "name": "python3"
  },
  "language_info": {
   "codemirror_mode": {
    "name": "ipython",
    "version": 3
   },
   "file_extension": ".py",
   "mimetype": "text/x-python",
   "name": "python",
   "nbconvert_exporter": "python",
   "pygments_lexer": "ipython3",
   "version": "3.9.18"
  }
 },
 "nbformat": 4,
 "nbformat_minor": 2
}
