{
 "cells": [
  {
   "cell_type": "code",
   "execution_count": null,
   "metadata": {},
   "outputs": [],
   "source": [
    "import pandas as pd\n",
    "\n",
    "pd.set_option('display.max_columns', 500)\n",
    "\n",
    "def get_state_abbr():\n",
    "    return {\n",
    "        \"AL\": \"Alabama\",\n",
    "        \"AK\": \"Alaska\",\n",
    "        \"AZ\": \"Arizona\",\n",
    "        \"AR\": \"Arkansas\",\n",
    "        \"CA\": \"California\",\n",
    "        \"CO\": \"Colorado\",\n",
    "        \"CT\": \"Connecticut\",\n",
    "        \"DE\": \"Delaware\",\n",
    "        \"FL\": \"Florida\",\n",
    "        \"GA\": \"Georgia\",\n",
    "        \"HI\": \"Hawaii\",\n",
    "        \"ID\": \"Idaho\",\n",
    "        \"IL\": \"Illinois\",\n",
    "        \"IN\": \"Indiana\",\n",
    "        \"IA\": \"Iowa\",\n",
    "        \"KS\": \"Kansas\",\n",
    "        \"KY\": \"Kentucky\",\n",
    "        \"LA\": \"Louisiana\",\n",
    "        \"ME\": \"Maine\",\n",
    "        \"MD\": \"Maryland\",\n",
    "        \"MA\": \"Massachusetts\",\n",
    "        \"MI\": \"Michigan\",\n",
    "        \"MN\": \"Minnesota\",\n",
    "        \"MS\": \"Mississippi\",\n",
    "        \"MO\": \"Missouri\",\n",
    "        \"MT\": \"Montana\",\n",
    "        \"NE\": \"Nebraska\",\n",
    "        \"NV\": \"Nevada\",\n",
    "        \"NH\": \"New Hampshire\",\n",
    "        \"NJ\": \"New Jersey\",\n",
    "        \"NM\": \"New Mexico\",\n",
    "        \"NY\": \"New York\",\n",
    "        \"NC\": \"North Carolina\",\n",
    "        \"ND\": \"North Dakota\",\n",
    "        \"OH\": \"Ohio\",\n",
    "        \"OK\": \"Oklahoma\",\n",
    "        \"OR\": \"Oregon\",\n",
    "        \"PA\": \"Pennsylvania\",\n",
    "        \"RI\": \"Rhode Island\",\n",
    "        \"SC\": \"South Carolina\",\n",
    "        \"SD\": \"South Dakota\",\n",
    "        \"TN\": \"Tennessee\",\n",
    "        \"TX\": \"Texas\",\n",
    "        \"UT\": \"Utah\",\n",
    "        \"VT\": \"Vermont\",\n",
    "        \"VA\": \"Virginia\",\n",
    "        \"WA\": \"Washington\",\n",
    "        \"WV\": \"West Virginia\",\n",
    "        \"WI\": \"Wisconsin\",\n",
    "        \"WY\": \"Wyoming\",\n",
    "    }"
   ]
  },
  {
   "cell_type": "code",
   "execution_count": null,
   "metadata": {},
   "outputs": [],
   "source": [
    "solar = pd.read_excel('data/data.xlsx')\n",
    "solar.head()"
   ]
  },
  {
   "cell_type": "code",
   "execution_count": null,
   "metadata": {},
   "outputs": [],
   "source": [
    "operating_years = solar['Operating Year'].unique()\n",
    "solar_important = solar[['State', 'County', 'Operating Year', 'Nameplate Capacity (MW)']]\n",
    "solar_important['State'] = solar_important['State'].map(get_state_abbr())"
   ]
  },
  {
   "cell_type": "code",
   "execution_count": null,
   "metadata": {},
   "outputs": [],
   "source": [
    "dfs = {}\n",
    "for operating_year in operating_years:\n",
    "    grouped = solar_important[solar_important['Operating Year'] == operating_year].drop(columns=['Operating Year']).groupby(['State', 'County'])\n",
    "    grouped_summed = grouped.sum().reset_index()\n",
    "    grouped_mean = grouped.mean().reset_index()\n",
    "    grouped_count = grouped.count().reset_index()\n",
    "    \n",
    "    merged = grouped_summed.merge(grouped_mean, on=['State', 'County'], suffixes=('_sum', '_mean')).merge(grouped_count, on=['State', 'County']).rename(columns={'Nameplate Capacity (MW)_sum': 'Nameplate Capacity (MW) sum', 'Nameplate Capacity (MW)_mean': 'Nameplate Capacity (MW) mean', 'Nameplate Capacity (MW)': 'Number of Plants'})\n",
    "    \n",
    "    dfs[operating_year] = merged"
   ]
  },
  {
   "cell_type": "markdown",
   "metadata": {},
   "source": [
    "## Normalize"
   ]
  },
  {
   "cell_type": "code",
   "execution_count": null,
   "metadata": {},
   "outputs": [],
   "source": [
    "# Get County Sizes\n",
    "county_sizes = pd.read_csv('data/county_sizes.csv')\n",
    "county_sizes.head()"
   ]
  },
  {
   "cell_type": "code",
   "execution_count": null,
   "metadata": {},
   "outputs": [],
   "source": [
    "for year, df in dfs.items():\n",
    "    merged = df.merge(county_sizes, left_on=['State', 'County'], right_on=['State', 'County'])\n",
    "    merged['Nameplate Capacity (MW) sum - Norm mi2'] = merged['Nameplate Capacity (MW) sum'] / merged['area mi2']\n",
    "    merged['Nameplate Capacity (MW) sum - Norm km2'] = merged['Nameplate Capacity (MW) mean'] / merged['area km2']\n",
    "    \n",
    "    merged['Number of Plants - Norm mi2'] = merged['Number of Plants'] / merged['area mi2']\n",
    "    merged['Number of Plants - Norm km2'] = merged['Number of Plants'] / merged['area km2']\n",
    "    \n",
    "    dfs[year] = merged"
   ]
  },
  {
   "cell_type": "code",
   "execution_count": null,
   "metadata": {},
   "outputs": [],
   "source": [
    "dfs[2019].head()"
   ]
  },
  {
   "cell_type": "code",
   "execution_count": null,
   "metadata": {},
   "outputs": [],
   "source": []
  }
 ],
 "metadata": {
  "kernelspec": {
   "display_name": "base",
   "language": "python",
   "name": "python3"
  },
  "language_info": {
   "codemirror_mode": {
    "name": "ipython",
    "version": 3
   },
   "file_extension": ".py",
   "mimetype": "text/x-python",
   "name": "python",
   "nbconvert_exporter": "python",
   "pygments_lexer": "ipython3",
   "version": "3.11.5"
  }
 },
 "nbformat": 4,
 "nbformat_minor": 2
}
