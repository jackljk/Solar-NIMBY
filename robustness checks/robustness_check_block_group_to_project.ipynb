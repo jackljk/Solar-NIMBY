{
 "cells": [
  {
   "cell_type": "code",
   "execution_count": 3,
   "metadata": {},
   "outputs": [],
   "source": [
    "import pandas as pd\n",
    "import ipywidgets as widgets\n",
    "from IPython.display import display\n",
    "\n",
    "\n",
    "pd.set_option('display.max_columns', None)\n",
    "\n",
    "import warnings\n",
    "\n",
    "warnings.filterwarnings(\"ignore\")"
   ]
  },
  {
   "cell_type": "markdown",
   "metadata": {},
   "source": [
    "# Check Block Group to Project\n",
    "This robusness check is to view whether the projects that are built suitability score measure up to the Block Group level suitability score. \n",
    "\n",
    "This lets us measure how good of a statistic is the county level suitability score when analyzing project level factors."
   ]
  },
  {
   "cell_type": "code",
   "execution_count": 4,
   "metadata": {},
   "outputs": [],
   "source": [
    "# Load block group data\n",
    "suitability_block_group = pd.read_csv(\"/Users/jack/Library/CloudStorage/GoogleDrive-limjackailjk@gmail.com/My Drive/Solar PV Lab/NIMBY Project/Solar NIMBY Final/Solar-NIMBY/regression/cleaned data bg/block_group_suitability_scores.csv\", dtype={\"GEOID\": str})\n",
    "FIPS = pd.read_csv(\"/Users/jack/Library/CloudStorage/GoogleDrive-limjackailjk@gmail.com/My Drive/Solar PV Lab/NIMBY Project/Solar NIMBY Final/Solar-NIMBY/data cleaning/data/FIPS.csv\", dtype={\"FIPS State\": str, \"FIPS County\": str})\n",
    "\n",
    "# Merge FIPS data to get GEOID\n",
    "suitability_block_group = suitability_block_group.merge(FIPS, left_on=[\"State\", \"County Name\"], right_on=[\"State\", \"County Name\"], how=\"left\")\n",
    "\n",
    "# Load Project level suitability data\n",
    "suitability_proj = pd.read_csv(\"data/suitability data/suitability_project_level.csv\", dtype={\"GEOID\": str, 'STATEFP': str, 'COUNTYFP': str, 'TRACTCE': str, 'BLKGRPCE': str})"
   ]
  },
  {
   "cell_type": "code",
   "execution_count": 7,
   "metadata": {},
   "outputs": [],
   "source": [
    "# List of factor to check\n",
    "factors = ['GHI', 'Protected_Land', 'Habitat', 'Slope', 'Population_Density', 'Distance_to_Substation', 'Land_Cover']\n",
    "\n",
    "\n",
    "def create_analysis_df(factor, no_matches, asc = True, list_view=True, project_size='all'):\n",
    "    # Sort and filter to get the factors suitability at bg level\n",
    "    factor_suitability = suitability_block_group.sort_values(factor, ascending=True)\n",
    "    factor_suitability = factor_suitability[['State', 'County Name', 'GEOID'] + [factor]].dropna()\n",
    "    \n",
    "    suitability_factor_proj = suitability_proj[['GEOID', 'STATEFP', 'COUNTYFP', 'TRACTCE', 'BLKGRPCE', 'Wattage'] + factors]\n",
    "    \n",
    "    \n",
    "    if project_size == 'small':\n",
    "        suitability_factor_proj = suitability_factor_proj[suitability_factor_proj['Wattage'] < 5]\n",
    "    elif project_size == 'medium':\n",
    "        suitability_factor_proj = suitability_factor_proj[suitability_factor_proj['Wattage'] >= 5]\n",
    "        suitability_factor_proj = suitability_factor_proj[suitability_factor_proj['Wattage'] < 25]\n",
    "    elif project_size == 'large':\n",
    "        suitability_factor_proj = suitability_factor_proj[suitability_factor_proj['Wattage'] >= 25]\n",
    "    \n",
    "    # Get the matches with teh projects\n",
    "    project_matches_mean = []\n",
    "    project_matches_list = []\n",
    "    for i in range(len(factor_suitability)):\n",
    "        # get the geoid\n",
    "        geoid = factor_suitability.iloc[i][\"GEOID\"]\n",
    "        if geoid in suitability_factor_proj[\"GEOID\"].values:\n",
    "            # add the rank of the project\n",
    "            proj_matches = suitability_factor_proj[suitability_factor_proj[\"GEOID\"] == geoid]\n",
    "            \n",
    "            # Handle the mean df\n",
    "            proj_matches_mean_factor = proj_matches[factor].mean()\n",
    "            \n",
    "            # construct the row for the mean\n",
    "            row = factor_suitability.iloc[i]\n",
    "            row[f\"Project_Mean_{factor}\"] = proj_matches_mean_factor\n",
    "            row[\"block group rank\"] = i + 1\n",
    "            project_matches_mean.append(row)\n",
    "            \n",
    "            # Handle the list df\n",
    "            proj_matches[\"block group rank\"] = i + 1\n",
    "            # get the county names and state names for the projects\n",
    "            project_matches_list_df = proj_matches.merge(FIPS, left_on=[\"STATEFP\", \"COUNTYFP\"], right_on=[\"FIPS State\", \"FIPS County\"], how=\"left\")\n",
    "            project_matches_list_df = project_matches_list_df[['State', 'County Name', 'GEOID', 'STATEFP', 'COUNTYFP', 'TRACTCE', 'BLKGRPCE', 'Wattage', 'block group rank'] + factors].reset_index().drop(columns=[\"index\"])\n",
    "            \n",
    "            project_matches_list.append(project_matches_list_df)\n",
    "            \n",
    "            \n",
    "        # Break when we get x matches\n",
    "        if len(project_matches_mean) >= no_matches:\n",
    "            break\n",
    "        \n",
    "    if list_view:\n",
    "        return pd.concat(project_matches_list)\n",
    "    if not list_view:\n",
    "        return pd.DataFrame(project_matches_mean)"
   ]
  },
  {
   "cell_type": "code",
   "execution_count": 8,
   "metadata": {},
   "outputs": [
    {
     "data": {
      "application/vnd.jupyter.widget-view+json": {
       "model_id": "7f8e8df89d264e90974700ab6654efb1",
       "version_major": 2,
       "version_minor": 0
      },
      "text/plain": [
       "Dropdown(description='Select DF:', options=('GHI', 'Protected_Land', 'Habitat', 'Slope', 'Population_Density',…"
      ]
     },
     "metadata": {},
     "output_type": "display_data"
    },
    {
     "data": {
      "application/vnd.jupyter.widget-view+json": {
       "model_id": "58d9665341b448f49cc0b2d5e4844e67",
       "version_major": 2,
       "version_minor": 0
      },
      "text/plain": [
       "IntText(value=10, description='No of Matches:')"
      ]
     },
     "metadata": {},
     "output_type": "display_data"
    },
    {
     "data": {
      "application/vnd.jupyter.widget-view+json": {
       "model_id": "e4ea61bb22dd4a4d942de01632a96473",
       "version_major": 2,
       "version_minor": 0
      },
      "text/plain": [
       "Dropdown(description='Select Project Size:', options=('all', 'small', 'medium', 'large'), value='all')"
      ]
     },
     "metadata": {},
     "output_type": "display_data"
    },
    {
     "data": {
      "application/vnd.jupyter.widget-view+json": {
       "model_id": "155ff65a410041dfa8696c90bd8d6961",
       "version_major": 2,
       "version_minor": 0
      },
      "text/plain": [
       "Button(description='Display', style=ButtonStyle())"
      ]
     },
     "metadata": {},
     "output_type": "display_data"
    },
    {
     "data": {
      "application/vnd.jupyter.widget-view+json": {
       "model_id": "e00bfc5932cc4be3b050a259a7e38756",
       "version_major": 2,
       "version_minor": 0
      },
      "text/plain": [
       "Output()"
      ]
     },
     "metadata": {},
     "output_type": "display_data"
    }
   ],
   "source": [
    "dropdown = widgets.Dropdown(\n",
    "    options=factors,\n",
    "    description='Select DF:'\n",
    ")\n",
    "\n",
    "dropdown_project_size = widgets.Dropdown(\n",
    "    options=['all', 'small', 'medium', 'large'],\n",
    "    description='Select Project Size:'\n",
    ")\n",
    "\n",
    "# add an inpout for selecting a integer\n",
    "no_matches = widgets.IntText(\n",
    "    value=10,\n",
    "    description='No of Matches:',\n",
    "    disabled=False\n",
    ")\n",
    "\n",
    "# Create a button to trigger the display\n",
    "button = widgets.Button(description=\"Display\")\n",
    "output = widgets.Output()\n",
    "\n",
    "def on_button_clicked(b):\n",
    "    with output:\n",
    "        output.clear_output()\n",
    "        display(create_analysis_df(dropdown.value, no_matches.value, project_size=dropdown_project_size.value))\n",
    "        \n",
    "button.on_click(on_button_clicked)\n",
    "\n",
    "display(dropdown)\n",
    "display(no_matches)\n",
    "display(dropdown_project_size)\n",
    "display(button)\n",
    "display(output)"
   ]
  },
  {
   "cell_type": "code",
   "execution_count": null,
   "metadata": {},
   "outputs": [],
   "source": []
  }
 ],
 "metadata": {
  "kernelspec": {
   "display_name": "PowerLab",
   "language": "python",
   "name": "python3"
  },
  "language_info": {
   "codemirror_mode": {
    "name": "ipython",
    "version": 3
   },
   "file_extension": ".py",
   "mimetype": "text/x-python",
   "name": "python",
   "nbconvert_exporter": "python",
   "pygments_lexer": "ipython3",
   "version": "3.9.18"
  }
 },
 "nbformat": 4,
 "nbformat_minor": 2
}
