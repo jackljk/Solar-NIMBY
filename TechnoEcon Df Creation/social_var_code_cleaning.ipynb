{
 "cells": [
  {
   "cell_type": "code",
   "execution_count": null,
   "metadata": {},
   "outputs": [],
   "source": [
    "import os\n",
    "import pandas as pd\n",
    "import rasterio\n",
    "import rioxarray as rxr\n",
    "import geopandas as gpd\n",
    "import numpy as np\n",
    "from rasterstats import zonal_stats"
   ]
  },
  {
   "cell_type": "markdown",
   "metadata": {},
   "source": [
    "## Define all paths for the tif files"
   ]
  },
  {
   "cell_type": "code",
   "execution_count": null,
   "metadata": {},
   "outputs": [],
   "source": [
    "main_path = \"/Users/jack/Library/CloudStorage/GoogleDrive-limjackailjk@gmail.com/My Drive/Solar PV Lab/NIMBY Project/Jenny's Regression/Data Sources/\"\n",
    "\n",
    "GHI= \"GHI-09188ce2.tif\"\n",
    "protected_land = \"Protected_Land-5745a356.tif\"\n",
    "habitat= \"Habitat-32079c87.tif\"\n",
    "slope= \"slope_only-2c1658fa.tif\"\n",
    "popl_dens= \"Popl_Density-714f0a64.tif\"\n",
    "Substation = \"distance_to_substation_only-f02c9129.tif\"\n",
    "land_cover=\"Land_Cover-8a2691e6.tif\"\n",
    "\n",
    "# Define the TIF file paths as a list\n",
    "tif_paths = [GHI, protected_land, habitat, slope, popl_dens, Substation, land_cover]\n",
    "tif_paths_full = [main_path + path for path in tif_paths]\n",
    "tif_paths_full"
   ]
  },
  {
   "cell_type": "markdown",
   "metadata": {},
   "source": [
    "## Load the Counties Bounding Boxes and get the state and county names"
   ]
  },
  {
   "cell_type": "code",
   "execution_count": null,
   "metadata": {},
   "outputs": [],
   "source": [
    "# Load the Rectangular Bounding Box to get the county name and state name\n",
    "county_bounding_boxes = pd.read_csv('https://gist.githubusercontent.com/a8dx/7e550680f7ea6a68f20da00e21d7ce9b/raw/5f88f425bb362f8e200456fb8181ecb0a8fd55d6/US_County_Boundingboxes.csv')\n",
    "\n",
    "states_to_drop = ['American Samoa', 'Puerto Rico', 'Alaska', 'Hawaii', 'Commonwealth of the Northern Mariana Islands', 'United States Virgin Islands', 'Guam']\n",
    "\n",
    "county_bounding_boxes = county_bounding_boxes[~county_bounding_boxes['STATE_NAME'].isin(states_to_drop)]"
   ]
  },
  {
   "cell_type": "code",
   "execution_count": null,
   "metadata": {},
   "outputs": [],
   "source": [
    "# load the full county boxes \n",
    "county_bounding_boxes_full = gpd.read_file(\"/Users/jack/Library/CloudStorage/GoogleDrive-limjackailjk@gmail.com/My Drive/Solar PV Lab/NIMBY Project/scripts/county_box/US County Boundary 2018/cb_2018_us_county_500k.shp\")\n",
    "county_bounding_boxes_full['STATEFP'] = county_bounding_boxes_full['STATEFP'].astype(int)\n",
    "county_bounding_boxes_full.head()"
   ]
  },
  {
   "cell_type": "code",
   "execution_count": null,
   "metadata": {},
   "outputs": [],
   "source": [
    "# Merge the Files\n",
    "county_bounding_boxes_full = county_bounding_boxes_full.merge(county_bounding_boxes[['STATE_NAME', 'STATEFP']].drop_duplicates(), left_on='STATEFP', right_on='STATEFP')\n",
    "\n",
    "county_bounding_boxes_full.head()"
   ]
  },
  {
   "cell_type": "code",
   "execution_count": null,
   "metadata": {},
   "outputs": [],
   "source": [
    "col_names = [\"GHI\", \"Protected_Land\", \"Habitat\", \"Slope\", \"Population_Density\", \"Distance_to_Substation\", \"Land_Cover\"]\n",
    "\n",
    "def calculate_zonal_stats(tif_path, geodataframe, nodata_value):\n",
    "    with rasterio.open(tif_path) as src:\n",
    "        affine = src.transform\n",
    "        array = src.read(1)  # Read the first band\n",
    "        array = np.where(np.isnan(array), nodata_value, array)  # Replace NaNs with nodata_value\n",
    "        # Debugging: Check raster data and affine transformation\n",
    "        print(f\"Raster data shape: {array.shape}\")\n",
    "        print(f\"Affine transformation: {affine}\")\n",
    "        # Check the CRS of the raster\n",
    "        raster_crs = src.crs\n",
    "        print(f\"Raster CRS: {raster_crs}\")\n",
    "        if geodataframe.crs != raster_crs:\n",
    "            geodataframe = geodataframe.to_crs(raster_crs)\n",
    "            \n",
    "        # filter out values that are less than 100\n",
    "        array = np.where(array > 101, nodata_value, array)\n",
    "\n",
    "    # Calculate zonal statistics\n",
    "    stats = zonal_stats(geodataframe, array, affine=affine, stats=\"mean\", nodata=nodata_value, all_touched=True)\n",
    "    print(stats)\n",
    "    # Extract mean values and add to GeoDataFrame\n",
    "    mean_values = [stat['mean'] for stat in stats]\n",
    "    return mean_values\n",
    "\n",
    "def process_tif_files(tif_filepaths, bounding_box, nodata_value=-9999):\n",
    "    x = bounding_box.copy()\n",
    "\n",
    "    # Initialize results DataFrame\n",
    "    results = pd.DataFrame(index=x.index, columns=col_names)\n",
    "\n",
    "    for tif_path, col_name in zip(tif_filepaths, col_names):\n",
    "        print(f\"Processing {tif_path} for {col_name}\")\n",
    "\n",
    "        # Calculate mean values using zonal stats\n",
    "        mean_values = calculate_zonal_stats(tif_path, x, nodata_value)\n",
    "\n",
    "        # Update results DataFrame\n",
    "        results[col_name] = mean_values\n",
    "\n",
    "    # Add county and state information\n",
    "    results[\"county\"] = bounding_box[\"NAME\"]\n",
    "    results[\"State\"] = bounding_box[\"STATE_NAME\"]\n",
    "\n",
    "    return results"
   ]
  },
  {
   "cell_type": "code",
   "execution_count": null,
   "metadata": {},
   "outputs": [],
   "source": [
    "# project the bounding box to the same crs as the tif files\n",
    "county_bounding_boxes_full = county_bounding_boxes_full.to_crs(\"EPSG:4326\")\n",
    "technoecon_suitability_scores = process_tif_files(tif_paths_full, county_bounding_boxes_full[['geometry', 'NAME', 'STATE_NAME']], nodata_value=np.nan)"
   ]
  },
  {
   "cell_type": "code",
   "execution_count": null,
   "metadata": {},
   "outputs": [],
   "source": [
    "technoecon_suitability_scores[technoecon_suitability_scores['county'] == 'Autauga']"
   ]
  },
  {
   "cell_type": "code",
   "execution_count": null,
   "metadata": {},
   "outputs": [],
   "source": [
    "technoecon_suitability_scores.to_csv('technoecon_suitability_scores.csv', index=False)"
   ]
  },
  {
   "cell_type": "code",
   "execution_count": null,
   "metadata": {},
   "outputs": [],
   "source": []
  }
 ],
 "metadata": {
  "kernelspec": {
   "display_name": "PowerLab",
   "language": "python",
   "name": "python3"
  },
  "language_info": {
   "codemirror_mode": {
    "name": "ipython",
    "version": 3
   },
   "file_extension": ".py",
   "mimetype": "text/x-python",
   "name": "python",
   "nbconvert_exporter": "python",
   "pygments_lexer": "ipython3",
   "version": "3.11.5"
  }
 },
 "nbformat": 4,
 "nbformat_minor": 2
}
