{
 "cells": [
  {
   "cell_type": "code",
   "execution_count": 1,
   "metadata": {},
   "outputs": [],
   "source": [
    "import os\n",
    "import pandas as pd\n",
    "import rasterio\n",
    "import geopandas as gpd\n",
    "import numpy as np\n",
    "from rasterstats import zonal_stats\n",
    "from shapely.geometry import Point, box"
   ]
  },
  {
   "cell_type": "markdown",
   "metadata": {},
   "source": [
    "## Define all paths for the tif files"
   ]
  },
  {
   "cell_type": "code",
   "execution_count": 6,
   "metadata": {},
   "outputs": [
    {
     "data": {
      "text/plain": [
       "[\"/Users/jack/Library/CloudStorage/GoogleDrive-limjackailjk@gmail.com/My Drive/Solar PV Lab/NIMBY Project/Jenny's Regression/Data Sources/GHI-09188ce2.tif\",\n",
       " \"/Users/jack/Library/CloudStorage/GoogleDrive-limjackailjk@gmail.com/My Drive/Solar PV Lab/NIMBY Project/Jenny's Regression/Data Sources/Protected_Land-5745a356.tif\",\n",
       " \"/Users/jack/Library/CloudStorage/GoogleDrive-limjackailjk@gmail.com/My Drive/Solar PV Lab/NIMBY Project/Jenny's Regression/Data Sources/Habitat-32079c87.tif\",\n",
       " \"/Users/jack/Library/CloudStorage/GoogleDrive-limjackailjk@gmail.com/My Drive/Solar PV Lab/NIMBY Project/Jenny's Regression/Data Sources/slope_only-2c1658fa.tif\",\n",
       " \"/Users/jack/Library/CloudStorage/GoogleDrive-limjackailjk@gmail.com/My Drive/Solar PV Lab/NIMBY Project/Jenny's Regression/Data Sources/Popl_Density-714f0a64.tif\",\n",
       " \"/Users/jack/Library/CloudStorage/GoogleDrive-limjackailjk@gmail.com/My Drive/Solar PV Lab/NIMBY Project/Jenny's Regression/Data Sources/distance_to_substation_only-f02c9129.tif\",\n",
       " \"/Users/jack/Library/CloudStorage/GoogleDrive-limjackailjk@gmail.com/My Drive/Solar PV Lab/NIMBY Project/Jenny's Regression/Data Sources/Land_Cover-8a2691e6.tif\"]"
      ]
     },
     "execution_count": 6,
     "metadata": {},
     "output_type": "execute_result"
    }
   ],
   "source": [
    "main_path_mac = \"/Users/jack/Library/CloudStorage/GoogleDrive-limjackailjk@gmail.com/My Drive/Solar PV Lab/NIMBY Project/Jenny's Regression/Data Sources/\"\n",
    "main_path_win = \"G:/My Drive/Solar PV Lab/NIMBY Project/Jenny's Regression/Data Sources/\"\n",
    "\n",
    "GHI= \"GHI-09188ce2.tif\"\n",
    "protected_land = \"Protected_Land-5745a356.tif\"\n",
    "habitat= \"Habitat-32079c87.tif\"\n",
    "slope= \"slope_only-2c1658fa.tif\"\n",
    "popl_dens= \"Popl_Density-714f0a64.tif\"\n",
    "Substation = \"distance_to_substation_only-f02c9129.tif\"\n",
    "land_cover=\"Land_Cover-8a2691e6.tif\"\n",
    "# Define the TIF file paths as a list\n",
    "tif_paths = [GHI, protected_land, habitat, slope, popl_dens, Substation, land_cover]\n",
    "tif_paths_full = [main_path_mac + path for path in tif_paths]\n",
    "tif_paths_full"
   ]
  },
  {
   "cell_type": "markdown",
   "metadata": {},
   "source": [
    "## Load the Counties Bounding Boxes and get the state and county names"
   ]
  },
  {
   "cell_type": "code",
   "execution_count": 7,
   "metadata": {},
   "outputs": [
    {
     "data": {
      "text/html": [
       "<div>\n",
       "<style scoped>\n",
       "    .dataframe tbody tr th:only-of-type {\n",
       "        vertical-align: middle;\n",
       "    }\n",
       "\n",
       "    .dataframe tbody tr th {\n",
       "        vertical-align: top;\n",
       "    }\n",
       "\n",
       "    .dataframe thead th {\n",
       "        text-align: right;\n",
       "    }\n",
       "</style>\n",
       "<table border=\"1\" class=\"dataframe\">\n",
       "  <thead>\n",
       "    <tr style=\"text-align: right;\">\n",
       "      <th></th>\n",
       "      <th>GEOID</th>\n",
       "      <th>geometry</th>\n",
       "      <th>STATEFP</th>\n",
       "      <th>COUNTYFP</th>\n",
       "      <th>TRACTCE</th>\n",
       "      <th>BLKGRPCE</th>\n",
       "      <th>State</th>\n",
       "      <th>County Name</th>\n",
       "      <th>area km2</th>\n",
       "      <th>area mi2</th>\n",
       "    </tr>\n",
       "  </thead>\n",
       "  <tbody>\n",
       "    <tr>\n",
       "      <th>0</th>\n",
       "      <td>011130303001</td>\n",
       "      <td>POLYGON ((-85.00365 32.47885, -85.00133 32.480...</td>\n",
       "      <td>01</td>\n",
       "      <td>113</td>\n",
       "      <td>030300</td>\n",
       "      <td>1</td>\n",
       "      <td>Alabama</td>\n",
       "      <td>Russell</td>\n",
       "      <td>0.802873</td>\n",
       "      <td>0.309991</td>\n",
       "    </tr>\n",
       "    <tr>\n",
       "      <th>1</th>\n",
       "      <td>040159534062</td>\n",
       "      <td>POLYGON ((-114.32649 34.43788, -114.31824 34.4...</td>\n",
       "      <td>04</td>\n",
       "      <td>015</td>\n",
       "      <td>953406</td>\n",
       "      <td>2</td>\n",
       "      <td>Arizona</td>\n",
       "      <td>Mohave</td>\n",
       "      <td>592.457766</td>\n",
       "      <td>228.749128</td>\n",
       "    </tr>\n",
       "    <tr>\n",
       "      <th>2</th>\n",
       "      <td>040019450021</td>\n",
       "      <td>POLYGON ((-109.32335 35.54182, -109.31495 35.5...</td>\n",
       "      <td>04</td>\n",
       "      <td>001</td>\n",
       "      <td>945002</td>\n",
       "      <td>1</td>\n",
       "      <td>Arizona</td>\n",
       "      <td>Apache</td>\n",
       "      <td>608.287674</td>\n",
       "      <td>234.861087</td>\n",
       "    </tr>\n",
       "    <tr>\n",
       "      <th>3</th>\n",
       "      <td>040270003012</td>\n",
       "      <td>POLYGON ((-114.66727 32.72505, -114.66541 32.7...</td>\n",
       "      <td>04</td>\n",
       "      <td>027</td>\n",
       "      <td>000301</td>\n",
       "      <td>2</td>\n",
       "      <td>Arizona</td>\n",
       "      <td>Yuma</td>\n",
       "      <td>2.098048</td>\n",
       "      <td>0.810061</td>\n",
       "    </tr>\n",
       "    <tr>\n",
       "      <th>4</th>\n",
       "      <td>050070208033</td>\n",
       "      <td>POLYGON ((-94.27908 36.48882, -94.27656 36.491...</td>\n",
       "      <td>05</td>\n",
       "      <td>007</td>\n",
       "      <td>020803</td>\n",
       "      <td>3</td>\n",
       "      <td>Arkansas</td>\n",
       "      <td>Benton</td>\n",
       "      <td>3.594376</td>\n",
       "      <td>1.387796</td>\n",
       "    </tr>\n",
       "  </tbody>\n",
       "</table>\n",
       "</div>"
      ],
      "text/plain": [
       "          GEOID                                           geometry STATEFP  \\\n",
       "0  011130303001  POLYGON ((-85.00365 32.47885, -85.00133 32.480...      01   \n",
       "1  040159534062  POLYGON ((-114.32649 34.43788, -114.31824 34.4...      04   \n",
       "2  040019450021  POLYGON ((-109.32335 35.54182, -109.31495 35.5...      04   \n",
       "3  040270003012  POLYGON ((-114.66727 32.72505, -114.66541 32.7...      04   \n",
       "4  050070208033  POLYGON ((-94.27908 36.48882, -94.27656 36.491...      05   \n",
       "\n",
       "  COUNTYFP TRACTCE BLKGRPCE     State County Name    area km2    area mi2  \n",
       "0      113  030300        1   Alabama     Russell    0.802873    0.309991  \n",
       "1      015  953406        2   Arizona      Mohave  592.457766  228.749128  \n",
       "2      001  945002        1   Arizona      Apache  608.287674  234.861087  \n",
       "3      027  000301        2   Arizona        Yuma    2.098048    0.810061  \n",
       "4      007  020803        3  Arkansas      Benton    3.594376    1.387796  "
      ]
     },
     "execution_count": 7,
     "metadata": {},
     "output_type": "execute_result"
    }
   ],
   "source": [
    "# block_group_bounding_boxes_win = pd.read_csv(\"G:/My Drive/Solar PV Lab/NIMBY Project/Solar NIMBY Final/Solar-NIMBY/data cleaning/data_bg/bounding_box_bg_full.csv\", dtype={'GEOID': str, 'STATEFP': str, 'COUNTYFP': str, 'TRACTCE': str, 'BLKGRPCE': str})\n",
    "\n",
    "# bg_bb_full_win = gpd.read_file(\"C:/Users/limja/Downloads/cb_2023_us_bg_500k/cb_2023_us_bg_500k.shp\")[['GEOID', 'geometry']] # Not in repo due to size\n",
    "\n",
    "block_group_bounding_boxes_mac = pd.read_csv(\"/Users/jack/Library/CloudStorage/GoogleDrive-limjackailjk@gmail.com/My Drive/Solar PV Lab/NIMBY Project/Solar NIMBY Final/Solar-NIMBY/data cleaning/data_bg/bounding_box_bg_full.csv\", dtype={'GEOID': str, 'STATEFP': str, 'COUNTYFP': str, 'TRACTCE': str, 'BLKGRPCE': str})\n",
    "\n",
    "bg_bb_full_mac = gpd.read_file(\"/Users/jack/Downloads/US Boundary 500k/cb_2023_us_bg_500k.shp\")[['GEOID', 'geometry']] # Not in repo due to size\n",
    "\n",
    "# Merge the bounding boxes with the block group geometries\n",
    "block_group_bounding_boxes = bg_bb_full_mac.merge(block_group_bounding_boxes_mac, on='GEOID', how='left')\n",
    "\n",
    "block_group_bounding_boxes.head()"
   ]
  },
  {
   "cell_type": "code",
   "execution_count": null,
   "metadata": {},
   "outputs": [],
   "source": [
    "block_group_bounding_boxes"
   ]
  },
  {
   "cell_type": "code",
   "execution_count": null,
   "metadata": {},
   "outputs": [],
   "source": [
    "# Load FIPS and county data for names\n",
    "county_bounding_boxes = pd.read_csv(\"/Users/jack/Library/CloudStorage/GoogleDrive-limjackailjk@gmail.com/My Drive/Solar PV Lab/NIMBY Project/Solar NIMBY Final/Solar-NIMBY/data cleaning/data/county_bounding_boxes.csv\", dtype={\"FIPS State\": str, \"FIPS County\": str})\n",
    "\n",
    "county_bounding_boxes.head()"
   ]
  },
  {
   "cell_type": "code",
   "execution_count": null,
   "metadata": {},
   "outputs": [],
   "source": [
    "# load the full county boxes \n",
    "county_bounding_boxes_full = gpd.read_file(\"/Users/jack/Library/CloudStorage/GoogleDrive-limjackailjk@gmail.com/My Drive/Solar PV Lab/NIMBY Project/Solar NIMBY Final/Solar-NIMBY/county_box/US County Boundary 2018/cb_2018_us_county_500k.shp\", dtype={'STATEFP': str}).rename(columns={\"STATEFP\": \"FIPS State\", \"COUNTYFP\": \"FIPS County\"})\n",
    "county_bounding_boxes_full.head()"
   ]
  },
  {
   "cell_type": "code",
   "execution_count": null,
   "metadata": {},
   "outputs": [],
   "source": [
    "# Merge the Files\n",
    "county_bounding_boxes_full = county_bounding_boxes_full.merge(county_bounding_boxes, on=[\"FIPS State\", \"FIPS County\"], how=\"left\")\n",
    "\n",
    "county_bounding_boxes_full.head()"
   ]
  },
  {
   "cell_type": "code",
   "execution_count": 5,
   "metadata": {},
   "outputs": [],
   "source": [
    "col_names = [\"GHI\", \"Protected_Land\", \"Habitat\", \"Slope\", \"Population_Density\", \"Distance_to_Substation\", \"Land_Cover\"]\n",
    "\n",
    "def calculate_zonal_stats(tif_path, geodataframe, nodata_value ):\n",
    "    with rasterio.open(tif_path) as src:\n",
    "        affine = src.transform\n",
    "        array = src.read(1)  # Read the first band\n",
    "        array = np.where(np.isnan(array), nodata_value, array)  # Replace NaNs with nodata_value\n",
    "        # Debugging: Check raster data and affine transformation\n",
    "        print(f\"Raster data shape: {array.shape}\")\n",
    "        print(f\"Affine transformation: {affine}\")\n",
    "        # Check the CRS of the raster\n",
    "        raster_crs = src.crs\n",
    "        print(f\"Raster CRS: {raster_crs}\")\n",
    "        if geodataframe.crs != raster_crs:\n",
    "            geodataframe = geodataframe.to_crs(raster_crs)\n",
    "            \n",
    "        # filter out values that are less than 100\n",
    "        array = np.where(array > 101, nodata_value, array)\n",
    "\n",
    "    # Calculate zonal statistics\n",
    "    stats = zonal_stats(geodataframe, array, affine=affine, stats=\"mean\", nodata=nodata_value, all_touched=True)\n",
    "    print(stats)\n",
    "    # Extract mean values and add to GeoDataFrame\n",
    "    mean_values = [stat['mean'] for stat in stats]\n",
    "    return mean_values\n",
    "\n",
    "def process_tif_files(tif_filepaths, bounding_box, nodata_value=-9999,bg=False):\n",
    "    x = bounding_box.copy()\n",
    "\n",
    "    # Initialize results DataFrame\n",
    "    results = pd.DataFrame(index=x.index, columns=col_names)\n",
    "\n",
    "    for tif_path, col_name in zip(tif_filepaths, col_names):\n",
    "        print(f\"Processing {tif_path} for {col_name}\")\n",
    "\n",
    "        # Calculate mean values using zonal stats\n",
    "        mean_values = calculate_zonal_stats(tif_path, x, nodata_value)\n",
    "\n",
    "        # Update results DataFrame\n",
    "        results[col_name] = mean_values\n",
    "\n",
    "    # Add county and state information\n",
    "    results[\"County Name\"] = bounding_box[\"County Name\"]\n",
    "    results[\"State\"] = bounding_box[\"State\"]\n",
    "    if bg:\n",
    "        results[\"GEOID\"] = bounding_box[\"GEOID\"]\n",
    "        results[\"TRACTCE\"] = bounding_box[\"TRACTCE\"]\n",
    "        results[\"BLKGRPCE\"] = bounding_box[\"BLKGRPCE\"]\n",
    "\n",
    "    return results"
   ]
  },
  {
   "cell_type": "code",
   "execution_count": null,
   "metadata": {},
   "outputs": [],
   "source": [
    "# project the bounding box to the same crs as the tif files\n",
    "county_bounding_boxes_full = county_bounding_boxes_full.to_crs(\"EPSG:4326\")\n",
    "technoecon_suitability_scores = process_tif_files(tif_paths_full, county_bounding_boxes_full[['geometry', 'County Name', 'State']], nodata_value=np.nan)"
   ]
  },
  {
   "cell_type": "code",
   "execution_count": null,
   "metadata": {},
   "outputs": [],
   "source": [
    "block_group_bounding_boxes_4326 = block_group_bounding_boxes.to_crs(\"EPSG:4326\")\n",
    "block_group_suitability_scores = process_tif_files(tif_paths_full, block_group_bounding_boxes_4326[['geometry', 'GEOID', 'County Name', 'State', 'TRACTCE', \"BLKGRPCE\"]], nodata_value=np.nan, bg=True)"
   ]
  },
  {
   "cell_type": "code",
   "execution_count": 36,
   "metadata": {},
   "outputs": [],
   "source": [
    "mapper = {\n",
    "    '110': 'Hartford', '190': 'Fairfield', '170': 'Litchfield', \n",
    "    '140': 'Middlefield', '120': 'New Haven', '130': 'Tolland',\n",
    "    '160': 'Windham', '180': 'New London', '150': 'New London'\n",
    "}"
   ]
  },
  {
   "cell_type": "code",
   "execution_count": 49,
   "metadata": {},
   "outputs": [],
   "source": [
    "def fix_data_Connecticut(series):\n",
    "    \n",
    "    if series['GEOID'][:2] == '09':\n",
    "        series['State'] = 'Connecticut'\n",
    "        series['County Name'] = mapper[series['GEOID'][2:5]]\n",
    "        series['TRACTCE'] = series['GEOID'][5:11]\n",
    "        series['BLKGRPCE'] = series['GEOID'][11:]\n",
    "\n",
    "    return series"
   ]
  },
  {
   "cell_type": "code",
   "execution_count": 50,
   "metadata": {},
   "outputs": [],
   "source": [
    "block_group_suitability_scores = block_group_suitability_scores.apply(fix_data_Connecticut, axis=1)"
   ]
  },
  {
   "cell_type": "code",
   "execution_count": null,
   "metadata": {},
   "outputs": [],
   "source": [
    "block_group_suitability_scores.head()"
   ]
  },
  {
   "cell_type": "code",
   "execution_count": 2,
   "metadata": {},
   "outputs": [
    {
     "ename": "NameError",
     "evalue": "name 'block_group_suitability_scores' is not defined",
     "output_type": "error",
     "traceback": [
      "\u001b[0;31m---------------------------------------------------------------------------\u001b[0m",
      "\u001b[0;31mNameError\u001b[0m                                 Traceback (most recent call last)",
      "Cell \u001b[0;32mIn[2], line 1\u001b[0m\n\u001b[0;32m----> 1\u001b[0m block_group_suitability_scores\u001b[38;5;241m.\u001b[39mto_csv(\u001b[38;5;124m'\u001b[39m\u001b[38;5;124m/Users/jack/Library/CloudStorage/GoogleDrive-limjackailjk@gmail.com/My Drive/Solar PV Lab/NIMBY Project/Solar NIMBY Final/Solar-NIMBY/regression/cleaned data bg/block_group_suitability_scores.csv\u001b[39m\u001b[38;5;124m'\u001b[39m, index\u001b[38;5;241m=\u001b[39m\u001b[38;5;28;01mFalse\u001b[39;00m)\n",
      "\u001b[0;31mNameError\u001b[0m: name 'block_group_suitability_scores' is not defined"
     ]
    }
   ],
   "source": [
    "block_group_suitability_scores.to_csv('block_group_suitability_scores.csv', index=False)"
   ]
  },
  {
   "cell_type": "code",
   "execution_count": 44,
   "metadata": {},
   "outputs": [],
   "source": [
    "block_group_suitability_scores = pd.read_csv(\"/Users/jack/Library/CloudStorage/GoogleDrive-limjackailjk@gmail.com/My Drive/Solar PV Lab/NIMBY Project/Solar NIMBY Final/Solar-NIMBY/regression/cleaned data bg/block_group_suitability_scores.csv\",\n",
    "                                             dtype={'GEOID': str, 'TRACTCE': str, 'BLKGRPCE': str})\n",
    "\n",
    "FIPS = pd.read_csv(\"/Users/jack/Library/CloudStorage/GoogleDrive-limjackailjk@gmail.com/My Drive/Solar PV Lab/NIMBY Project/Solar NIMBY Final/Solar-NIMBY/data cleaning/data/FIPS.csv\", dtype={'FIPS State': str, 'FIPS County': str})"
   ]
  },
  {
   "cell_type": "code",
   "execution_count": 45,
   "metadata": {},
   "outputs": [],
   "source": [
    "state_dict = FIPS.set_index('FIPS State')['State'].to_dict()\n",
    "\n",
    "# County dict for mapping but requires to match the FIPS State as well\n",
    "county_dict = FIPS.set_index(['FIPS State', 'FIPS County'])['County Name'].to_dict()"
   ]
  },
  {
   "cell_type": "code",
   "execution_count": 46,
   "metadata": {},
   "outputs": [],
   "source": [
    "def fix_tract(series):\n",
    "    if series['GEOID'] != np.nan:\n",
    "        if series['GEOID'][:2] == '02':\n",
    "            series['State'] = 'Alaska'\n",
    "        elif series['GEOID'][:2] == '15':\n",
    "            series['State'] = 'Hawaii'\n",
    "        else:\n",
    "            try:\n",
    "                series['State'] = state_dict[series['GEOID'][:2]]\n",
    "            except:\n",
    "                series['State'] = np.nan\n",
    "        series['TRACTCE'] = series['GEOID'][5:11]\n",
    "        series['BLKGRPCE'] = series['GEOID'][11:]\n",
    "        try:\n",
    "            series['County Name'] = county_dict[(series['GEOID'][:2], series['GEOID'][2:5])]\n",
    "        except:\n",
    "            series['County Name'] = np.nan\n",
    "        \n",
    "    return series"
   ]
  },
  {
   "cell_type": "code",
   "execution_count": 47,
   "metadata": {},
   "outputs": [],
   "source": [
    "block_group_suitability_scores = block_group_suitability_scores.apply(fix_tract, axis=1)\n",
    "block_group_suitability_scores = block_group_suitability_scores.dropna(subset=['State', 'County Name'])"
   ]
  },
  {
   "cell_type": "markdown",
   "metadata": {},
   "source": [
    "# Check to see if there are no statistics for certain geoid"
   ]
  },
  {
   "cell_type": "code",
   "execution_count": null,
   "metadata": {},
   "outputs": [],
   "source": [
    "list_in = ['040190043371', '081070004003'] # should be in\n",
    "list_out = ['020900001002', '150030038023'] # should be out"
   ]
  },
  {
   "cell_type": "code",
   "execution_count": null,
   "metadata": {},
   "outputs": [],
   "source": [
    "# Open the raster file\n",
    "GHI_raster = rasterio.open(tif_paths_full[0])\n",
    "\n",
    "# Get the bounding box of the raster as a Shapely Polygon\n",
    "raster_bounds = box(*GHI_raster.bounds)\n",
    "raster_crs = GHI_raster.crs\n",
    "\n",
    "bb = block_group_bounding_boxes.to_crs(raster_crs)\n",
    "\n",
    "# Define GEOID and get its bounding box as a Shapely Polygon from the DataFrame\n",
    "for GEOID in list_in:\n",
    "    GEOID_polygon = bb[bb['GEOID'] == GEOID].geometry.values[0]\n",
    "\n",
    "    # Check if the GEOID polygon is within the raster bounds\n",
    "    within_bounds = GEOID_polygon.within(raster_bounds)\n",
    "\n",
    "    print(\"Is the GEOID bounding box within raster bounds?\", within_bounds)\n",
    "\n",
    "for GEOID in list_out:\n",
    "    GEOID_polygon = bb[bb['GEOID'] == GEOID].geometry.values[0]\n",
    "\n",
    "    # Check if the GEOID polygon is within the raster bounds\n",
    "    within_bounds = GEOID_polygon.within(raster_bounds)\n",
    "\n",
    "    print(\"Is the GEOID bounding box within raster bounds?\", within_bounds)"
   ]
  },
  {
   "cell_type": "code",
   "execution_count": null,
   "metadata": {},
   "outputs": [],
   "source": []
  }
 ],
 "metadata": {
  "kernelspec": {
   "display_name": "base",
   "language": "python",
   "name": "python3"
  },
  "language_info": {
   "codemirror_mode": {
    "name": "ipython",
    "version": 3
   },
   "file_extension": ".py",
   "mimetype": "text/x-python",
   "name": "python",
   "nbconvert_exporter": "python",
   "pygments_lexer": "ipython3",
   "version": "3.11.5"
  }
 },
 "nbformat": 4,
 "nbformat_minor": 2
}
