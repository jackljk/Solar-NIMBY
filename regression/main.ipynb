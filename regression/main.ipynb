{
 "cells": [
  {
   "cell_type": "code",
   "execution_count": 1,
   "metadata": {},
   "outputs": [],
   "source": [
    "import pandas as pd\n",
    "\n",
    "pd.set_option('display.max_columns', 500)"
   ]
  },
  {
   "cell_type": "markdown",
   "metadata": {},
   "source": [
    "## Merge Social Factors with TechnoEcon Factors"
   ]
  },
  {
   "cell_type": "code",
   "execution_count": 5,
   "metadata": {},
   "outputs": [],
   "source": [
    "social = pd.read_csv('cleaned data/social_data.csv')\n",
    "suitability = pd.read_csv('cleaned data/technoecon_suitability_scores.csv')"
   ]
  },
  {
   "cell_type": "code",
   "execution_count": 6,
   "metadata": {},
   "outputs": [],
   "source": [
    "# Merge the two dataframes on the 'county' 'state' pairs\n",
    "data = pd.merge(social, suitability, on=['State', 'County Name'])\n",
    "# data.to_csv('cleaned data/merged_data.csv', index=False)"
   ]
  },
  {
   "cell_type": "code",
   "execution_count": 8,
   "metadata": {},
   "outputs": [
    {
     "data": {
      "text/html": [
       "<div>\n",
       "<style scoped>\n",
       "    .dataframe tbody tr th:only-of-type {\n",
       "        vertical-align: middle;\n",
       "    }\n",
       "\n",
       "    .dataframe tbody tr th {\n",
       "        vertical-align: top;\n",
       "    }\n",
       "\n",
       "    .dataframe thead th {\n",
       "        text-align: right;\n",
       "    }\n",
       "</style>\n",
       "<table border=\"1\" class=\"dataframe\">\n",
       "  <thead>\n",
       "    <tr style=\"text-align: right;\">\n",
       "      <th></th>\n",
       "      <th>GEOID</th>\n",
       "      <th>State</th>\n",
       "      <th>County Name</th>\n",
       "      <th>area km2</th>\n",
       "      <th>area mi2</th>\n",
       "      <th>FIPS State</th>\n",
       "      <th>FIPS County</th>\n",
       "      <th>Wind Capacity Intensity (MW / 1000 sq mile)</th>\n",
       "      <th>Wind Project Intensity (Projects / 1000 sq mile)</th>\n",
       "      <th>Wind Avg Capacity Intensity (MW / 1000 sq mile)</th>\n",
       "      <th>GDP_2017</th>\n",
       "      <th>GDP_2018</th>\n",
       "      <th>GDP_2019</th>\n",
       "      <th>GDP_2020</th>\n",
       "      <th>GDP_2021</th>\n",
       "      <th>GDP_2022</th>\n",
       "      <th>Solar MW 1000 sq mile all</th>\n",
       "      <th>Solar Projects 1000 sq mile all</th>\n",
       "      <th>Solar MW Avg 1000 sq mile all</th>\n",
       "      <th>Solar MW 1000 sq mile small</th>\n",
       "      <th>Solar Projects 1000 sq mile small</th>\n",
       "      <th>Solar MW Avg 1000 sq mile small</th>\n",
       "      <th>Solar MW 1000 sq mile medium</th>\n",
       "      <th>Solar Projects 1000 sq mile medium</th>\n",
       "      <th>Solar MW Avg 1000 sq mile medium</th>\n",
       "      <th>Solar MW 1000 sq mile large</th>\n",
       "      <th>Solar Projects 1000 sq mile large</th>\n",
       "      <th>Solar MW Avg 1000 sq mile large</th>\n",
       "      <th>No. of Private Schools</th>\n",
       "      <th>Median Income</th>\n",
       "      <th>Total Unemployment</th>\n",
       "      <th>Unemployment Rate</th>\n",
       "      <th>Hispanic/Latino</th>\n",
       "      <th>White</th>\n",
       "      <th>Black/African American</th>\n",
       "      <th>American Indian/Alaska Native</th>\n",
       "      <th>Asian</th>\n",
       "      <th>Native Hawaiian/Other Pacific Islander</th>\n",
       "      <th>Others</th>\n",
       "      <th>democrat_percentage_vote</th>\n",
       "      <th>republican_percentage_vote</th>\n",
       "      <th>green_percentage_vote</th>\n",
       "      <th>libertarian_percentage_vote</th>\n",
       "      <th>other_percentage_vote</th>\n",
       "      <th>18-24 Less than high school graduate</th>\n",
       "      <th>18-24 High school graduate</th>\n",
       "      <th>18-24 Some college or associate's degree</th>\n",
       "      <th>18-24 Bachelor's degree or higher</th>\n",
       "      <th>25+ Less than 9th grade</th>\n",
       "      <th>25+ 9th to 12th grade, no diploma</th>\n",
       "      <th>25+ High school graduate</th>\n",
       "      <th>25+ Some college, no degree</th>\n",
       "      <th>25+ Associate's degree</th>\n",
       "      <th>25+ Bachelor's degree</th>\n",
       "      <th>25+ Graduate or professional degree</th>\n",
       "      <th>25+ High school graduate or higher</th>\n",
       "      <th>25+ Bachelor's degree or higher</th>\n",
       "      <th>GHI</th>\n",
       "      <th>Protected_Land</th>\n",
       "      <th>Habitat</th>\n",
       "      <th>Slope</th>\n",
       "      <th>Population_Density</th>\n",
       "      <th>Distance_to_Substation</th>\n",
       "      <th>Land_Cover</th>\n",
       "    </tr>\n",
       "  </thead>\n",
       "  <tbody>\n",
       "  </tbody>\n",
       "</table>\n",
       "</div>"
      ],
      "text/plain": [
       "Empty DataFrame\n",
       "Columns: [GEOID, State, County Name, area km2, area mi2, FIPS State, FIPS County, Wind Capacity Intensity (MW / 1000 sq mile), Wind Project Intensity (Projects / 1000 sq mile), Wind Avg Capacity Intensity (MW / 1000 sq mile), GDP_2017, GDP_2018, GDP_2019, GDP_2020, GDP_2021, GDP_2022, Solar MW 1000 sq mile all, Solar Projects 1000 sq mile all, Solar MW Avg 1000 sq mile all, Solar MW 1000 sq mile small, Solar Projects 1000 sq mile small, Solar MW Avg 1000 sq mile small, Solar MW 1000 sq mile medium, Solar Projects 1000 sq mile medium, Solar MW Avg 1000 sq mile medium, Solar MW 1000 sq mile large, Solar Projects 1000 sq mile large, Solar MW Avg 1000 sq mile large, No. of Private Schools, Median Income, Total Unemployment, Unemployment Rate, Hispanic/Latino, White, Black/African American, American Indian/Alaska Native, Asian, Native Hawaiian/Other Pacific Islander, Others, democrat_percentage_vote, republican_percentage_vote, green_percentage_vote, libertarian_percentage_vote, other_percentage_vote, 18-24 Less than high school graduate, 18-24 High school graduate, 18-24 Some college or associate's degree, 18-24 Bachelor's degree or higher, 25+ Less than 9th grade, 25+ 9th to 12th grade, no diploma, 25+ High school graduate, 25+ Some college, no degree, 25+ Associate's degree, 25+ Bachelor's degree, 25+ Graduate or professional degree, 25+ High school graduate or higher, 25+ Bachelor's degree or higher, GHI, Protected_Land, Habitat, Slope, Population_Density, Distance_to_Substation, Land_Cover]\n",
       "Index: []"
      ]
     },
     "execution_count": 8,
     "metadata": {},
     "output_type": "execute_result"
    }
   ],
   "source": [
    "# get the duplicate county state pairs\n",
    "duplicates = data[data.duplicated(subset=['State', 'County Name'], keep=False)]\n",
    "duplicates"
   ]
  },
  {
   "cell_type": "code",
   "execution_count": null,
   "metadata": {},
   "outputs": [],
   "source": []
  }
 ],
 "metadata": {
  "kernelspec": {
   "display_name": "base",
   "language": "python",
   "name": "python3"
  },
  "language_info": {
   "codemirror_mode": {
    "name": "ipython",
    "version": 3
   },
   "file_extension": ".py",
   "mimetype": "text/x-python",
   "name": "python",
   "nbconvert_exporter": "python",
   "pygments_lexer": "ipython3",
   "version": "3.11.5"
  }
 },
 "nbformat": 4,
 "nbformat_minor": 2
}
