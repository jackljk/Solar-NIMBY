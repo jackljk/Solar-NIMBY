{
 "cells": [
  {
   "cell_type": "code",
   "execution_count": 1,
   "metadata": {},
   "outputs": [],
   "source": [
    "import pandas as pd"
   ]
  },
  {
   "cell_type": "code",
   "execution_count": 23,
   "metadata": {},
   "outputs": [],
   "source": [
    "def to_int(df):\n",
    "    # strip all ',' from string numbers\n",
    "    df = df.apply(lambda x: x.replace(',', '') if type(x) == str else x)\n",
    "    return df.astype(float)\n",
    "\n",
    "def get_codes(geo):\n",
    "    geo = geo.split('US')[1]\n",
    "    state = geo[:2]\n",
    "    county = geo[2:5]\n",
    "    tract = geo[5:len(geo) - 1]\n",
    "    block = geo[-1]\n",
    "    return state, county, tract, block\n",
    "\n",
    "def get_county_name(geo_area_name):\n",
    "    county_name = geo_area_name.split(';')[2].strip()\n",
    "    return county_name\n",
    "def get_state_name(geo_area_name):\n",
    "    state_name = geo_area_name.split(';')[3].strip()\n",
    "    return state_name\n",
    "    "
   ]
  },
  {
   "cell_type": "code",
   "execution_count": 27,
   "metadata": {},
   "outputs": [],
   "source": [
    "df = pd.read_csv(\"/Users/jack/Downloads/B23025 Employment Status 2024/ACSDT5Y2022.B23025-Data.csv\", skiprows=1)\n",
    "cols = [\"Geography\", \"Geographic Area Name\"] + [col for col in df.columns if \"Estimate\" in col]\n",
    "rename_mapper = {\n",
    "    \"Estimate!!Total:\": \"Total\",\n",
    "    \"Estimate!!Total:!!In labor force:\": \"In labor force\",\n",
    "    \"Estimate!!Total:!!In labor force:!!Civilian labor force:\": \"Civilian labor force\",\n",
    "    \"Estimate!!Total:!!In labor force:!!Civilian labor force:!!Employed\": \"Employed\",\n",
    "    \"Estimate!!Total:!!In labor force:!!Civilian labor force:!!Unemployed\": \"Unemployed\",\n",
    "    \"Estimate!!Total:!!In labor force:!!Armed Forces\": \"Armed Forces\",\n",
    "    \"Estimate!!Total:!!Not in labor force\": \"Not in labor force\"\n",
    "}\n",
    "df = df[cols].rename(columns=rename_mapper)\n",
    "df['State'], df['County'], df['Tract'], df['Block'] = zip(*df['Geography'].map(get_codes))\n",
    "df['County Name'] = df['Geographic Area Name'].map(get_county_name)\n",
    "df['State Name'] = df['Geographic Area Name'].map(get_state_name)\n",
    "df = df.drop(columns=['Geography', 'Geographic Area Name'])\n",
    "df['Unemployment Rate'] = df['Unemployed'] / df['In labor force']\n",
    "df.to_csv(\"bg_unemployment\", index=False)"
   ]
  },
  {
   "cell_type": "markdown",
   "metadata": {},
   "source": [
    "## Income"
   ]
  },
  {
   "cell_type": "code",
   "execution_count": 33,
   "metadata": {},
   "outputs": [],
   "source": [
    "df = pd.read_csv(\"/Users/jack/Downloads/Median Household Income 2024/ACSDT5Y2022.B19013-Data.csv\", skiprows=1)\n",
    "df = df[['Geography', 'Geographic Area Name', 'Estimate!!Median household income in the past 12 months (in 2022 inflation-adjusted dollars)']].rename(columns={'Estimate!!Median household income in the past 12 months (in 2022 inflation-adjusted dollars)': 'Median Household Income'})\n",
    "df['State'], df['County'], df['Tract'], df['Block'] = zip(*df['Geography'].map(get_codes))\n",
    "df['County Name'] = df['Geographic Area Name'].map(get_county_name)\n",
    "df['State Name'] = df['Geographic Area Name'].map(get_state_name)\n",
    "df = df.drop(columns=['Geography', 'Geographic Area Name'])\n",
    "df.to_csv(\"bg_income\", index=False)"
   ]
  },
  {
   "cell_type": "code",
   "execution_count": null,
   "metadata": {},
   "outputs": [],
   "source": []
  }
 ],
 "metadata": {
  "kernelspec": {
   "display_name": "base",
   "language": "python",
   "name": "python3"
  },
  "language_info": {
   "codemirror_mode": {
    "name": "ipython",
    "version": 3
   },
   "file_extension": ".py",
   "mimetype": "text/x-python",
   "name": "python",
   "nbconvert_exporter": "python",
   "pygments_lexer": "ipython3",
   "version": "3.11.5"
  }
 },
 "nbformat": 4,
 "nbformat_minor": 2
}
