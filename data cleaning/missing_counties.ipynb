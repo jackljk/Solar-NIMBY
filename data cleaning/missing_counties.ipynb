{
 "cells": [
  {
   "cell_type": "code",
   "execution_count": null,
   "metadata": {},
   "outputs": [],
   "source": [
    "import pandas as pd\n",
    "from utils import * \n",
    "import geopandas as gpd\n",
    "from main import *\n",
    "\n",
    "pd.set_option('display.max_columns', None)"
   ]
  },
  {
   "cell_type": "code",
   "execution_count": null,
   "metadata": {},
   "outputs": [],
   "source": [
    "datapaths = {\n",
    "    \"Wind\": \"data/wind/ez_gis.plant_power_eia_v8_wind.shp\",\n",
    "    \"GDP\": \"data/gdp_data.csv\",\n",
    "    \"Solar\": \"data/solar_data.csv\",\n",
    "    \"education\": \"data/education_data.csv\",\n",
    "    \"private_schools\": \"data/private_school_data.csv\",\n",
    "    \"DEC_race\": \"data/race_dec_data.csv\",\n",
    "    \"ACS_race\": \"data/race_acs_data.csv\",\n",
    "    \"election\": \"data/election_data.csv\",\n",
    "    \"income\": \"data/income_data.csv\",\n",
    "    \"unemployment\": \"data/unemployment_data.csv\",\n",
    "    \"NREL_Electric\": \"data/NREL_Electric_data.csv\",\n",
    "    \"Rural_Urban\": \"data/rural_urban.csv\",\n",
    "    'Population Data': 'data/pop_data.csv',\n",
    "}\n",
    "bounding_box = pd.read_csv(\"/Users/jack/Library/CloudStorage/GoogleDrive-limjackailjk@gmail.com/My Drive/Solar PV Lab/NIMBY Project/Solar NIMBY Final/Solar-NIMBY/data cleaning/data/county_bounding_boxes.csv\", dtype={\"FIPS State\": str, \"FIPS County\": str})"
   ]
  },
  {
   "cell_type": "code",
   "execution_count": null,
   "metadata": {},
   "outputs": [],
   "source": [
    "FIPS = pd.read_csv(\"data/FIPS.csv\", dtype={\"FIPS State\": str, \"FIPS County\": str})\n",
    "solar = get_solar(datapaths[\"Solar\"], bounding_box, size='all')\n",
    "wind = get_wind(datapaths[\"Wind\"], bounding_box)\n",
    "edu_18_24 = get_education_18_24(datapaths[\"education\"])\n",
    "edu_25 = get_education_25_over(datapaths[\"education\"])\n",
    "priv_sch = get_no_priv_schools(datapaths[\"private_schools\"])\n",
    "race_dec = get_race_dec(datapaths[\"DEC_race\"])\n",
    "race_acs = get_race_acs(datapaths[\"ACS_race\"])\n",
    "elections = get_election(datapaths[\"election\"])\n",
    "income = get_income(datapaths[\"income\"])\n",
    "unemployment = get_unemployment(datapaths[\"unemployment\"])\n",
    "electric = NREL_Electric(datapaths[\"NREL_Electric\"])\n",
    "gdp = get_GDP(datapaths[\"GDP\"], bounding_box, datapaths[\"Population Data\"])\n",
    "rural_urban = get_rural_urban_coverage(datapaths[\"Rural_Urban\"])\n",
    "save_datapath = \"missing_counties/\""
   ]
  },
  {
   "cell_type": "code",
   "execution_count": null,
   "metadata": {},
   "outputs": [],
   "source": [
    "# put all df into a dictionary\n",
    "dfs = {\n",
    "    \"solar\": solar,\n",
    "    \"wind\": wind,\n",
    "    \"edu_18_24\": edu_18_24,\n",
    "    \"edu_25\": edu_25,\n",
    "    \"priv_sch\": priv_sch,\n",
    "    \"race_acs\": race_acs,\n",
    "    \"race_dec\": race_dec,\n",
    "    \"elections_demo\": elections['democrat'],\n",
    "    \"elections_repub\": elections['republican'],\n",
    "    \"elections_other\": elections['other'],\n",
    "    \"elections_green\": elections['green'],\n",
    "    \"elections_libert\": elections['libertarian'],\n",
    "    \"income\": income,\n",
    "    \"unemployment\": unemployment,\n",
    "    \"electric\": electric,\n",
    "    \"gdp\": gdp,\n",
    "    \"rural_urban\": rural_urban\n",
    "}"
   ]
  },
  {
   "cell_type": "code",
   "execution_count": null,
   "metadata": {},
   "outputs": [],
   "source": [
    "def get_missing_counties(data, base):\n",
    "    base['State_County'] = base['State'] + '_' + base['County Name']\n",
    "    data['State_County'] = data['State'] + '_' + data['County Name']\n",
    "    \n",
    "    not_in = base[~base['State_County'].isin(data['State_County'])]\n",
    "    not_in = not_in.drop(columns=['State_County'])\n",
    "    return not_in"
   ]
  },
  {
   "cell_type": "markdown",
   "metadata": {},
   "source": [
    "## Count the number of counties that don't have data at all for each factor"
   ]
  },
  {
   "cell_type": "code",
   "execution_count": null,
   "metadata": {},
   "outputs": [],
   "source": [
    "dfs_missing = {\n",
    "    name: get_missing_counties(data, FIPS) for name, data in dfs.items()\n",
    "}\n",
    "\n",
    "for name, data in dfs_missing.items():\n",
    "    data.to_csv(save_datapath + name + \"_missing.csv\", index=False)\n",
    "    print(f\"For {name}, {len(data)} counties are missing\")"
   ]
  },
  {
   "cell_type": "markdown",
   "metadata": {},
   "source": [
    "## Count number of NaNs in each dfs"
   ]
  },
  {
   "cell_type": "code",
   "execution_count": null,
   "metadata": {},
   "outputs": [],
   "source": [
    "counts_str = \"\"\n",
    "\n",
    "for name, df in dfs.items():\n",
    "    temp = df.copy()\n",
    "    temp = temp.drop(columns=['State', 'County Name'])\n",
    "    \n",
    "    # Count rows that have 1 or more 0s\n",
    "    count_zeros = temp[temp.eq(0).any(axis=1)]\n",
    "    \n",
    "    # Count rows that have a NaN\n",
    "    count_nan = temp[temp.isna().any(axis=1)]\n",
    "    \n",
    "    print(f\"{name}:\")\n",
    "    print(f\"Rows with 0s: {count_zeros.shape[0]}\")\n",
    "    print(f\"Rows with NaNs: {count_nan.shape[0]}\")\n",
    "    print(\"\\n\")\n",
    "    \n",
    "    counts_str += f\"{name}:\\n Rows with 0s: {count_zeros.shape[0]}\\n Rows with NaNs: {count_nan.shape[0]}\\n\\n\""
   ]
  },
  {
   "cell_type": "code",
   "execution_count": null,
   "metadata": {},
   "outputs": [],
   "source": []
  }
 ],
 "metadata": {
  "kernelspec": {
   "display_name": "base",
   "language": "python",
   "name": "python3"
  },
  "language_info": {
   "codemirror_mode": {
    "name": "ipython",
    "version": 3
   },
   "file_extension": ".py",
   "mimetype": "text/x-python",
   "name": "python",
   "nbconvert_exporter": "python",
   "pygments_lexer": "ipython3",
   "version": "3.11.5"
  }
 },
 "nbformat": 4,
 "nbformat_minor": 2
}
