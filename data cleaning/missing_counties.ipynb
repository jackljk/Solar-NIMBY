{
 "cells": [
  {
   "cell_type": "code",
   "execution_count": 68,
   "metadata": {},
   "outputs": [],
   "source": [
    "import pandas as pd\n",
    "from utils import * \n",
    "import geopandas as gpd\n",
    "from main import *\n",
    "\n",
    "pd.set_option('display.max_columns', None)"
   ]
  },
  {
   "cell_type": "code",
   "execution_count": 79,
   "metadata": {},
   "outputs": [],
   "source": [
    "datapaths = {\n",
    "    \"Wind\": \"data/wind/ez_gis.plant_power_eia_v8_wind.shp\",\n",
    "    \"GDP\": \"data/gdp_data.csv\",\n",
    "    \"Solar\": \"data/solar_data.csv\",\n",
    "    \"education\": \"data/education_data.csv\",\n",
    "    \"private_schools\": \"data/private_school_data.csv\",\n",
    "    \"DEC_race\": \"data/race_dec_data.csv\",\n",
    "    \"ACS_race\": \"data/race_acs_data.csv\",\n",
    "    \"election\": \"data/election_data.csv\",\n",
    "    \"income\": \"data/income_data.csv\",\n",
    "    \"unemployment\": \"data/unemployment_data.csv\",\n",
    "    \"NREL_Electric\": \"data/NREL_Electric_data.csv\",\n",
    "    \"Rural_Urban\": \"data/rural_urban.csv\",\n",
    "    'Population Data': 'data/pop_data.csv',\n",
    "}\n",
    "bounding_box = pd.read_csv(\"/Users/jack/Library/CloudStorage/GoogleDrive-limjackailjk@gmail.com/My Drive/Solar PV Lab/NIMBY Project/Solar NIMBY Final/Solar-NIMBY/data cleaning/data/county_bounding_boxes.csv\", dtype={\"FIPS State\": str, \"FIPS County\": str})"
   ]
  },
  {
   "cell_type": "code",
   "execution_count": 81,
   "metadata": {},
   "outputs": [
    {
     "name": "stderr",
     "output_type": "stream",
     "text": [
      "/Users/jack/Library/CloudStorage/GoogleDrive-limjackailjk@gmail.com/My Drive/Solar PV Lab/NIMBY Project/Solar NIMBY Final/Solar-NIMBY/data cleaning/utils.py:269: DtypeWarning: Columns (2,4,5,6,7,8,9,10,11,12,14,15,16,17,18,19,20,21,22,23,24,25,26,27,28,29,30,31,32,34,35,36,37,38,40,41,42,43,44,46,47,48,49,50,52,53,54,55,56,57,58,59,60,61,62,63,64,65,66,67,68,69,70,71,72,73,74,75,76,77,78,79,80,81,82,83,84,85,86,87,88,89,90,91,92,93,94,95,96,97,98,99,100,101,102,103,104,106,107,108,109,118,119,122,123,124,125,132,133,134,135,136,137,138,139,142,143,144,145,146,147,148,149,150,151,152,153,154,155,156,157,158,159,162,163,164,165,168,169,170,171,174,175,176,177,180,181,182,183,186,187,188,189,192,193,194,195,222,223,224,225,228,229,230,231,234,235,236,237,238,239,240,241,242,243,244,245,258,260,261,262,263,264,265,266,267,268,270,271,272,273,274,275,276,277,278,279,280,281,282,283,284,285,286,287,288,290,291,292,293,294,296,297,298,299,300,302,303,304,305,306,308,309,310,311,312,313,314,315,316,317,318,319,320,321,322,323,324,325,326,327,328,329,330,331,332,333,334,335,336,337,338,339,340,341,342,343,344,345,346,347,348,349,350,351,352,353,354,355,356,357,358,359,360,362,363,364,365,374,375,378,379,380,381,388,389,390,391,392,393,394,395,398,399,400,401,402,403,404,405,406,407,408,409,410,411,412,413,414,415,418,419,420,421,424,425,426,427,430,431,432,433,436,437,438,439,442,443,444,445,448,449,450,451,484,485,486,487,490,491,492,493,494,495,496,497,498,499,500,501,514,516,517,518,519,520,521,522,523,524,526,527,528,529,530,531,532,533,534,535,536,537,538,539,540,541,542,543,544,546,547,548,549,550,552,553,554,555,556,558,559,560,561,562,564,565,566,567,568,569,570,571,572,573,574,575,576,577,578,579,580,581,582,583,584,585,586,587,588,589,590,591,592,593,594,595,596,597,598,599,600,601,602,603,604,605,606,607,608,609,610,611,612,613,614,615,616,618,619,620,621,630,631,644,645,646,647,648,649,650,651,654,655,656,657,658,659,660,661,662,663,664,665,666,667,668,669,670,671,674,675,676,677,680,681,682,683,686,687,688,689,692,693,694,695,698,699,700,701,704,705,706,707,740,741,742,743,746,747,748,749,750,751,752,753,754,755,756,757) have mixed types. Specify dtype option on import or set low_memory=False.\n",
      "  data = pd.read_csv(datapath)\n",
      "/Users/jack/Library/CloudStorage/GoogleDrive-limjackailjk@gmail.com/My Drive/Solar PV Lab/NIMBY Project/Solar NIMBY Final/Solar-NIMBY/data cleaning/utils.py:327: DtypeWarning: Columns (2,4,5,6,7,8,9,10,11,12,14,15,16,17,18,19,20,21,22,23,24,25,26,27,28,29,30,31,32,34,35,36,37,38,40,41,42,43,44,46,47,48,49,50,52,53,54,55,56,57,58,59,60,61,62,63,64,65,66,67,68,69,70,71,72,73,74,75,76,77,78,79,80,81,82,83,84,85,86,87,88,89,90,91,92,93,94,95,96,97,98,99,100,101,102,103,104,106,107,108,109,118,119,122,123,124,125,132,133,134,135,136,137,138,139,142,143,144,145,146,147,148,149,150,151,152,153,154,155,156,157,158,159,162,163,164,165,168,169,170,171,174,175,176,177,180,181,182,183,186,187,188,189,192,193,194,195,222,223,224,225,228,229,230,231,234,235,236,237,238,239,240,241,242,243,244,245,258,260,261,262,263,264,265,266,267,268,270,271,272,273,274,275,276,277,278,279,280,281,282,283,284,285,286,287,288,290,291,292,293,294,296,297,298,299,300,302,303,304,305,306,308,309,310,311,312,313,314,315,316,317,318,319,320,321,322,323,324,325,326,327,328,329,330,331,332,333,334,335,336,337,338,339,340,341,342,343,344,345,346,347,348,349,350,351,352,353,354,355,356,357,358,359,360,362,363,364,365,374,375,378,379,380,381,388,389,390,391,392,393,394,395,398,399,400,401,402,403,404,405,406,407,408,409,410,411,412,413,414,415,418,419,420,421,424,425,426,427,430,431,432,433,436,437,438,439,442,443,444,445,448,449,450,451,484,485,486,487,490,491,492,493,494,495,496,497,498,499,500,501,514,516,517,518,519,520,521,522,523,524,526,527,528,529,530,531,532,533,534,535,536,537,538,539,540,541,542,543,544,546,547,548,549,550,552,553,554,555,556,558,559,560,561,562,564,565,566,567,568,569,570,571,572,573,574,575,576,577,578,579,580,581,582,583,584,585,586,587,588,589,590,591,592,593,594,595,596,597,598,599,600,601,602,603,604,605,606,607,608,609,610,611,612,613,614,615,616,618,619,620,621,630,631,644,645,646,647,648,649,650,651,654,655,656,657,658,659,660,661,662,663,664,665,666,667,668,669,670,671,674,675,676,677,680,681,682,683,686,687,688,689,692,693,694,695,698,699,700,701,704,705,706,707,740,741,742,743,746,747,748,749,750,751,752,753,754,755,756,757) have mixed types. Specify dtype option on import or set low_memory=False.\n",
      "  data = pd.read_csv(datapath)\n",
      "/Users/jack/Library/CloudStorage/GoogleDrive-limjackailjk@gmail.com/My Drive/Solar PV Lab/NIMBY Project/Solar NIMBY Final/Solar-NIMBY/data cleaning/utils.py:656: DtypeWarning: Columns (2,3,4,5,6,8,10,12,14,16,17,18,19,20,22,24,25,26,27,28,29,30,31,32,33,34,35,36,37,38,39,40,41,42,44,46,48,49,50,51,52,53,54,55,56,57,58,59,60,61,62,64,65,66,67,68,69,70,71,72,73,78,79,80,81,90,91,92,93,94,95,112,113,114,115,116,117,118,119,128,129,132,133,136,137,142,143,148,149,150,151,160,161,162,163,164,165,182,183,184,185,186,187,188,189,198,199,202,203,206,207,212,213,220,221,234,235,252,253,254,255,256,257,268,269,272,273,276,277) have mixed types. Specify dtype option on import or set low_memory=False.\n",
      "  data = pd.read_csv(datapath)\n"
     ]
    }
   ],
   "source": [
    "FIPS = pd.read_csv(\"data/FIPS.csv\", dtype={\"FIPS State\": str, \"FIPS County\": str})\n",
    "solar = get_solar(datapaths[\"Solar\"], bounding_box, size='all')\n",
    "wind = get_wind(datapaths[\"Wind\"], bounding_box)\n",
    "edu_18_24 = get_education_18_24(datapaths[\"education\"])\n",
    "edu_25 = get_education_25_over(datapaths[\"education\"])\n",
    "priv_sch = get_no_priv_schools(datapaths[\"private_schools\"])\n",
    "race_dec = get_race_dec(datapaths[\"DEC_race\"])\n",
    "race_acs = get_race_acs(datapaths[\"ACS_race\"])\n",
    "elections = get_election(datapaths[\"election\"])\n",
    "income = get_income(datapaths[\"income\"])\n",
    "unemployment = get_unemployment(datapaths[\"unemployment\"])\n",
    "electric = NREL_Electric(datapaths[\"NREL_Electric\"])\n",
    "gdp = get_GDP(datapaths[\"GDP\"], bounding_box, datapaths[\"Population Data\"])\n",
    "rural_urban = get_rural_urban_coverage(datapaths[\"Rural_Urban\"])\n",
    "save_datapath = \"missing_counties/\""
   ]
  },
  {
   "cell_type": "code",
   "execution_count": 82,
   "metadata": {},
   "outputs": [],
   "source": [
    "# put all df into a dictionary\n",
    "dfs = {\n",
    "    \"solar\": solar,\n",
    "    \"wind\": wind,\n",
    "    \"edu_18_24\": edu_18_24,\n",
    "    \"edu_25\": edu_25,\n",
    "    \"priv_sch\": priv_sch,\n",
    "    \"race_acs\": race_acs,\n",
    "    \"race_dec\": race_dec,\n",
    "    \"elections_demo\": elections['democrat'],\n",
    "    \"elections_repub\": elections['republican'],\n",
    "    \"elections_other\": elections['other'],\n",
    "    \"elections_green\": elections['green'],\n",
    "    \"elections_libert\": elections['libertarian'],\n",
    "    \"income\": income,\n",
    "    \"unemployment\": unemployment,\n",
    "    \"electric\": electric,\n",
    "    \"gdp\": gdp,\n",
    "    \"rural_urban\": rural_urban\n",
    "}"
   ]
  },
  {
   "cell_type": "code",
   "execution_count": 72,
   "metadata": {},
   "outputs": [],
   "source": [
    "def get_missing_counties(data, base):\n",
    "    base['State_County'] = base['State'] + '_' + base['County Name']\n",
    "    data['State_County'] = data['State'] + '_' + data['County Name']\n",
    "    \n",
    "    not_in = base[~base['State_County'].isin(data['State_County'])]\n",
    "    not_in = not_in.drop(columns=['State_County'])\n",
    "    return not_in"
   ]
  },
  {
   "cell_type": "markdown",
   "metadata": {},
   "source": [
    "## Count the number of counties that don't have data at all for each factor"
   ]
  },
  {
   "cell_type": "code",
   "execution_count": 83,
   "metadata": {},
   "outputs": [
    {
     "name": "stdout",
     "output_type": "stream",
     "text": [
      "For solar, 2265 counties are missing\n",
      "For wind, 2645 counties are missing\n",
      "For edu_18_24, 5 counties are missing\n",
      "For edu_25, 5 counties are missing\n",
      "For priv_sch, 1048 counties are missing\n",
      "For race_acs, 5 counties are missing\n",
      "For race_dec, 5 counties are missing\n",
      "For elections_demo, 5 counties are missing\n",
      "For elections_repub, 5 counties are missing\n",
      "For elections_other, 618 counties are missing\n",
      "For elections_green, 1346 counties are missing\n",
      "For elections_libert, 167 counties are missing\n",
      "For income, 5 counties are missing\n",
      "For unemployment, 5 counties are missing\n",
      "For electric, 636 counties are missing\n",
      "For gdp, 70 counties are missing\n",
      "For rural_urban, 5 counties are missing\n"
     ]
    }
   ],
   "source": [
    "dfs_missing = {\n",
    "    name: get_missing_counties(data, FIPS) for name, data in dfs.items()\n",
    "}\n",
    "\n",
    "for name, data in dfs_missing.items():\n",
    "    data.to_csv(save_datapath + name + \"_missing.csv\", index=False)\n",
    "    print(f\"For {name}, {len(data)} counties are missing\")"
   ]
  },
  {
   "cell_type": "markdown",
   "metadata": {},
   "source": [
    "## Count number of NaNs in each dfs"
   ]
  },
  {
   "cell_type": "code",
   "execution_count": 84,
   "metadata": {},
   "outputs": [
    {
     "name": "stdout",
     "output_type": "stream",
     "text": [
      "solar:\n",
      "Rows with 0s: 0\n",
      "Rows with NaNs: 0\n",
      "\n",
      "\n",
      "wind:\n",
      "Rows with 0s: 21\n",
      "Rows with NaNs: 0\n",
      "\n",
      "\n",
      "edu_18_24:\n",
      "Rows with 0s: 53\n",
      "Rows with NaNs: 0\n",
      "\n",
      "\n",
      "edu_25:\n",
      "Rows with 0s: 7\n",
      "Rows with NaNs: 0\n",
      "\n",
      "\n",
      "priv_sch:\n",
      "Rows with 0s: 0\n",
      "Rows with NaNs: 0\n",
      "\n",
      "\n",
      "race_acs:\n",
      "Rows with 0s: 1469\n",
      "Rows with NaNs: 0\n",
      "\n",
      "\n",
      "race_dec:\n",
      "Rows with 0s: 616\n",
      "Rows with NaNs: 0\n",
      "\n",
      "\n",
      "elections_demo:\n",
      "Rows with 0s: 0\n",
      "Rows with NaNs: 0\n",
      "\n",
      "\n",
      "elections_repub:\n",
      "Rows with 0s: 0\n",
      "Rows with NaNs: 0\n",
      "\n",
      "\n",
      "elections_other:\n",
      "Rows with 0s: 177\n",
      "Rows with NaNs: 0\n",
      "\n",
      "\n",
      "elections_green:\n",
      "Rows with 0s: 84\n",
      "Rows with NaNs: 0\n",
      "\n",
      "\n",
      "elections_libert:\n",
      "Rows with 0s: 2\n",
      "Rows with NaNs: 0\n",
      "\n",
      "\n",
      "income:\n",
      "Rows with 0s: 0\n",
      "Rows with NaNs: 0\n",
      "\n",
      "\n",
      "unemployment:\n",
      "Rows with 0s: 9\n",
      "Rows with NaNs: 0\n",
      "\n",
      "\n",
      "electric:\n",
      "Rows with 0s: 10\n",
      "Rows with NaNs: 0\n",
      "\n",
      "\n",
      "gdp:\n",
      "Rows with 0s: 0\n",
      "Rows with NaNs: 0\n",
      "\n",
      "\n",
      "rural_urban:\n",
      "Rows with 0s: 1097\n",
      "Rows with NaNs: 0\n",
      "\n",
      "\n"
     ]
    }
   ],
   "source": [
    "counts_str = \"\"\n",
    "\n",
    "for name, df in dfs.items():\n",
    "    temp = df.copy()\n",
    "    temp = temp.drop(columns=['State', 'County Name'])\n",
    "    \n",
    "    # Count rows that have 1 or more 0s\n",
    "    count_zeros = temp[temp.eq(0).any(axis=1)]\n",
    "    \n",
    "    # Count rows that have a NaN\n",
    "    count_nan = temp[temp.isna().any(axis=1)]\n",
    "    \n",
    "    print(f\"{name}:\")\n",
    "    print(f\"Rows with 0s: {count_zeros.shape[0]}\")\n",
    "    print(f\"Rows with NaNs: {count_nan.shape[0]}\")\n",
    "    print(\"\\n\")\n",
    "    \n",
    "    counts_str += f\"{name}:\\n Rows with 0s: {count_zeros.shape[0]}\\n Rows with NaNs: {count_nan.shape[0]}\\n\\n\""
   ]
  },
  {
   "cell_type": "code",
   "execution_count": null,
   "metadata": {},
   "outputs": [],
   "source": []
  }
 ],
 "metadata": {
  "kernelspec": {
   "display_name": "base",
   "language": "python",
   "name": "python3"
  },
  "language_info": {
   "codemirror_mode": {
    "name": "ipython",
    "version": 3
   },
   "file_extension": ".py",
   "mimetype": "text/x-python",
   "name": "python",
   "nbconvert_exporter": "python",
   "pygments_lexer": "ipython3",
   "version": "3.11.5"
  }
 },
 "nbformat": 4,
 "nbformat_minor": 2
}
