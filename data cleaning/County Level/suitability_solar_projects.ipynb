{
 "cells": [
  {
   "cell_type": "code",
   "execution_count": 40,
   "metadata": {},
   "outputs": [],
   "source": [
    "from src.utils import get_solar\n",
    "from src.CONSTANTS import *\n",
    "import pandas as pd\n",
    "\n",
    "pd.set_option('display.max_columns', None)"
   ]
  },
  {
   "cell_type": "code",
   "execution_count": 25,
   "metadata": {},
   "outputs": [],
   "source": [
    "bounding_box = pd.read_csv(get_file_path(\"bounding_boxes\"), dtype={\"FIPS State\": str, \"FIPS County\": str})\n",
    "FIPS = pd.read_csv(\"../../data/extras/US_FIPS_Codes.csv\", dtype={\"FIPS State\": str, 'FIPS County': str})"
   ]
  },
  {
   "cell_type": "code",
   "execution_count": 99,
   "metadata": {},
   "outputs": [],
   "source": [
    "# load suitabilities\n",
    "county_suitability = pd.read_csv(\"../../data/suitability_scores/suitability_scores_county.csv\")\n",
    "bg_suitability = pd.read_csv(\"../../data/suitability_scores/suitability_scores_bg.csv\", dtype={\"GEOID\":str, \"STATEFP\": str, 'COUNTYFP':str, 'TRACTCE':str, 'BLKGRPCE':str})\n",
    "project_suitability = pd.read_csv(\"../../data/suitability_scores/suitability_scores_project.csv\", dtype={\"GEOID\":str, \"STATEFP\": str, 'COUNTYFP':str, 'TRACTCE':str, 'BLKGRPCE':str})\n",
    "\n",
    "# Get county and statenames in project suitablity\n",
    "project_suitability = project_suitability.merge(FIPS, left_on=['STATEFP', 'COUNTYFP'], right_on=['FIPS State', 'FIPS County'], how='left').drop(columns=['FIPS State', \"FIPS County\", 'geometry'])\n",
    "\n",
    "mapper = {\n",
    "    '110': 'Hartford', '190': 'Fairfield', '170': 'Litchfield', \n",
    "    '140': 'Middlefield', '120': 'New Haven', '130': 'Tolland',\n",
    "    '160': 'Windham', '180': 'New London', '150': 'New London'\n",
    "}\n",
    "\n",
    "# rename counties for Connecticut by using the mapper on state connecticut only using the COUNTYFP\n",
    "project_suitability['County Name'] = project_suitability.apply(\n",
    "    lambda x: mapper[x['COUNTYFP']] if x['STATEFP'] == '09' else x['County Name'], axis=1\n",
    ")\n",
    "\n",
    "# also replace State with Connecticut\n",
    "project_suitability.loc[project_suitability['STATEFP'] == '09', 'State'] = 'Connecticut'"
   ]
  },
  {
   "cell_type": "code",
   "execution_count": 100,
   "metadata": {},
   "outputs": [],
   "source": [
    "county_project = project_suitability.merge(county_suitability, left_on=['State', 'County Name'], right_on=['State', 'County Name'], how='inner', suffixes=('_project', '_county'))"
   ]
  },
  {
   "cell_type": "code",
   "execution_count": 101,
   "metadata": {},
   "outputs": [],
   "source": [
    "# get nan rows\n",
    "county_project.to_csv(\"county_project.csv\")"
   ]
  },
  {
   "cell_type": "code",
   "execution_count": 102,
   "metadata": {},
   "outputs": [],
   "source": [
    "bg_project = project_suitability.merge(bg_suitability, left_on=['State', 'County Name', 'TRACTCE', 'BLKGRPCE'], right_on=['State', 'County Name', 'TRACTCE', 'BLKGRPCE'], how='inner', suffixes=('_project', '_bg'))"
   ]
  },
  {
   "cell_type": "code",
   "execution_count": 104,
   "metadata": {},
   "outputs": [],
   "source": [
    "bg_project.to_csv(\"bg_project.csv\")"
   ]
  },
  {
   "cell_type": "code",
   "execution_count": null,
   "metadata": {},
   "outputs": [],
   "source": []
  }
 ],
 "metadata": {
  "kernelspec": {
   "display_name": "base",
   "language": "python",
   "name": "python3"
  },
  "language_info": {
   "codemirror_mode": {
    "name": "ipython",
    "version": 3
   },
   "file_extension": ".py",
   "mimetype": "text/x-python",
   "name": "python",
   "nbconvert_exporter": "python",
   "pygments_lexer": "ipython3",
   "version": "3.10.15"
  }
 },
 "nbformat": 4,
 "nbformat_minor": 2
}
