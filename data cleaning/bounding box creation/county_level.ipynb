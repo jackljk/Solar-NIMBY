{
 "cells": [
  {
   "cell_type": "code",
   "execution_count": 1,
   "metadata": {},
   "outputs": [],
   "source": [
    "import pandas as pd\n",
    "import numpy as np\n",
    "import geopandas as gpd"
   ]
  },
  {
   "cell_type": "markdown",
   "metadata": {},
   "source": [
    "## Load the FIPS codes for the US states"
   ]
  },
  {
   "cell_type": "code",
   "execution_count": null,
   "metadata": {},
   "outputs": [],
   "source": [
    "county_bounding_boxes_FIPS = pd.read_csv('FIPS/US FIPS Codes.csv')\n",
    "\n",
    "states_to_drop = ['American Samoa', 'Puerto Rico', 'Alaska', 'Hawaii', 'Commonwealth of the Northern Mariana Islands', 'United States Virgin Islands', 'Guam']\n",
    "\n",
    "# Columns names in the first row\n",
    "county_bounding_boxes_FIPS.columns = county_bounding_boxes_FIPS.iloc[0]\n",
    "county_bounding_boxes_FIPS = county_bounding_boxes_FIPS[1:]\n",
    "county_bounding_boxes_FIPS = county_bounding_boxes_FIPS.iloc[:, :-1]\n",
    "\n",
    "county_bounding_boxes_FIPS = county_bounding_boxes_FIPS[~county_bounding_boxes_FIPS['State'].isin(states_to_drop)]\n",
    "\n",
    "county_bounding_boxes_FIPS.head()"
   ]
  },
  {
   "cell_type": "code",
   "execution_count": null,
   "metadata": {},
   "outputs": [],
   "source": [
    "county_bounding_boxes_FIPS.to_csv('FIPS/US_FIPS_Codes.csv', index=False)"
   ]
  },
  {
   "cell_type": "code",
   "execution_count": null,
   "metadata": {},
   "outputs": [],
   "source": [
    "FIPS = pd.read_csv(\"/Users/jack/Library/CloudStorage/GoogleDrive-limjackailjk@gmail.com/My Drive/Solar PV Lab/NIMBY Project/Solar NIMBY Final/Solar-NIMBY/county_box/FIPS/US_FIPS_Codes.csv\", dtype={'FIPS State': str, 'FIPS County': str})\n",
    "\n",
    "FIPS"
   ]
  },
  {
   "cell_type": "markdown",
   "metadata": {},
   "source": [
    "## Read in shapefile of Census bounding boxes to get exact shapely polygons for each county"
   ]
  },
  {
   "cell_type": "code",
   "execution_count": null,
   "metadata": {},
   "outputs": [],
   "source": [
    "county_bounding_boxes_full = gpd.read_file('US County Boundary 2018/cb_2018_us_county_500k.shp', dtype={'STATEFP': str, 'COUNTYFP': str})\n",
    "county_bounding_boxes_full.head()"
   ]
  },
  {
   "cell_type": "markdown",
   "metadata": {},
   "source": [
    "## Merge both dataframes on STATEFP"
   ]
  },
  {
   "cell_type": "code",
   "execution_count": null,
   "metadata": {},
   "outputs": [],
   "source": [
    "county_bounding_boxes_full = county_bounding_boxes_full.merge(county_bounding_boxes_FIPS.drop_duplicates(), left_on=['STATEFP', 'COUNTYFP'], right_on=['FIPS State', 'FIPS County'])\n",
    "county_bounding_boxes_full.head()"
   ]
  },
  {
   "cell_type": "markdown",
   "metadata": {},
   "source": [
    "## Calculate the area of each county polygon\n",
    "- epsg 5070 is the projection used by to get the exact area of each county polygon without distortion for the US"
   ]
  },
  {
   "cell_type": "code",
   "execution_count": null,
   "metadata": {},
   "outputs": [],
   "source": [
    "# Calculate the area of each county\n",
    "county_bounding_boxes_full['area km2'] = county_bounding_boxes_full['geometry'].to_crs(epsg=5070).map(lambda p: p.area / 10**6)\n",
    "# sort the counties by StateFP and CountyFP\n",
    "county_bounding_boxes_full = county_bounding_boxes_full.sort_values(['STATEFP', 'COUNTYFP'])\n",
    "# get sq mile area\n",
    "county_bounding_boxes_full['area mi2'] = county_bounding_boxes_full['area km2'] * 0.386102\n",
    "county_bounding_boxes_full.head()"
   ]
  },
  {
   "cell_type": "markdown",
   "metadata": {},
   "source": [
    "## Get relavant columns and Remove Duplicate counties"
   ]
  },
  {
   "cell_type": "code",
   "execution_count": null,
   "metadata": {},
   "outputs": [],
   "source": [
    "county_bounding_boxes_full = county_bounding_boxes_full[[\n",
    "    \"GEOID\", \"State\", \"County Name\", \"area km2\", \"area mi2\", 'FIPS State', 'FIPS County'\n",
    "]]\n",
    "\n",
    "\n",
    "# find all the state county pairs that are duplicated\n",
    "county_bounding_boxes_full[county_bounding_boxes_full.duplicated(subset=['State', 'County Name'], keep=False)].sort_values(['State', 'County Name'])\n",
    "\n",
    "county_bounding_boxes_full.head()"
   ]
  },
  {
   "cell_type": "code",
   "execution_count": null,
   "metadata": {},
   "outputs": [],
   "source": [
    "# index of the duplicate cases that are incorrect (checked the area one by one by hand)\n",
    "idxs = [1703, 1318, 2646, 2617, 2626, 2605]\n",
    "county_bounding_boxes_full = county_bounding_boxes_full.drop(idxs)\n",
    "county_bounding_boxes_full.head()"
   ]
  },
  {
   "cell_type": "markdown",
   "metadata": {},
   "source": [
    "## Save to CSV"
   ]
  },
  {
   "cell_type": "code",
   "execution_count": null,
   "metadata": {},
   "outputs": [],
   "source": [
    "county_bounding_boxes_full.to_csv(\"county_bounding_boxes_full.csv\", index=False)"
   ]
  },
  {
   "cell_type": "code",
   "execution_count": null,
   "metadata": {},
   "outputs": [],
   "source": []
  }
 ],
 "metadata": {
  "kernelspec": {
   "display_name": "PowerLab",
   "language": "python",
   "name": "python3"
  },
  "language_info": {
   "codemirror_mode": {
    "name": "ipython",
    "version": 3
   },
   "file_extension": ".py",
   "mimetype": "text/x-python",
   "name": "python",
   "nbconvert_exporter": "python",
   "pygments_lexer": "ipython3",
   "version": "3.9.18"
  }
 },
 "nbformat": 4,
 "nbformat_minor": 2
}
