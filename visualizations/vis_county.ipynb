{
 "cells": [
  {
   "cell_type": "code",
   "execution_count": 1,
   "metadata": {},
   "outputs": [],
   "source": [
    "from urllib.request import urlopen\n",
    "import json\n",
    "import pandas as pd\n",
    "\n",
    "with urlopen('https://raw.githubusercontent.com/plotly/datasets/master/geojson-counties-fips.json') as response:\n",
    "    counties = json.load(response)\n",
    "    \n",
    "# load a state level geojson file\n",
    "with urlopen(\"https://raw.githubusercontent.com/PublicaMundi/MappingAPI/refs/heads/master/data/geojson/us-states.json\") as response:\n",
    "    states = json.load(response)"
   ]
  },
  {
   "cell_type": "code",
   "execution_count": null,
   "metadata": {},
   "outputs": [],
   "source": [
    "# Load county FIPS codes\n",
    "FIPS = pd.read_csv(\"../data/extras/US_FIPS_Codes.csv\", dtype={\"FIPS State\": str, \"FIPS County\": str})\n",
    "FIPS.head()"
   ]
  },
  {
   "cell_type": "code",
   "execution_count": null,
   "metadata": {},
   "outputs": [],
   "source": [
    "datapath = \"../data/suitability_scores/\"\n",
    "county_suitability = pd.read_csv(datapath + \"suitability_scores_county.csv\")\n",
    "county_suitability.head()"
   ]
  },
  {
   "cell_type": "code",
   "execution_count": 4,
   "metadata": {},
   "outputs": [],
   "source": [
    "# merge to get the FIPS codes\n",
    "county_suitability = county_suitability.merge(FIPS, left_on=[\"State\", \"County Name\"], right_on=[\"State\", \"County Name\"])\n",
    "county_suitability['fips'] = county_suitability['FIPS State'] + county_suitability['FIPS County']"
   ]
  },
  {
   "cell_type": "code",
   "execution_count": 5,
   "metadata": {},
   "outputs": [],
   "source": [
    "# Solar Data\n",
    "solar = pd.read_csv(\"../data/projects/solar/solar_raw.csv\")"
   ]
  },
  {
   "cell_type": "markdown",
   "metadata": {},
   "source": [
    "# Get weighted average of all factors\n",
    "\n",
    "**Formulas:**\n",
    "1. Avg of all factors = (sum of all factors) / (number of factors)\n",
    "2. Gem Model weighted avg\n",
    "    - 2 slope\n",
    "    - 1 land cover\n",
    "    - 2 population density\n",
    "    - 2 habitat\n",
    "    - 4 protected land\n",
    "    - 1 distance to substation\n",
    "    - 4 GHI (in the default GEM they used `Solar PV: 1-Axis Tracking Flat-Plate Collector`)"
   ]
  },
  {
   "cell_type": "code",
   "execution_count": 6,
   "metadata": {},
   "outputs": [],
   "source": [
    "# Formula 1\n",
    "factors = ['GHI', 'Protected_Land', 'Habitat', 'Slope', 'Population_Density', 'Distance_to_Substation', 'Land_Cover']\n",
    "\n",
    "# sum the factors\n",
    "formula_1 = county_suitability[factors].sum(axis=1).div(len(factors))\n",
    "df_formula_1 = pd.DataFrame({\"fips\": county_suitability['fips'], \"suitability\": formula_1})\n",
    "\n",
    "# Formula 2\n",
    "factors_plus_weights = {\n",
    "    'GHI': 4,\n",
    "    'Protected_Land': 4,\n",
    "    'Habitat': 2,\n",
    "    'Slope': 2,\n",
    "    'Population_Density': 2,\n",
    "    'Distance_to_Substation': 1,\n",
    "    'Land_Cover': 1\n",
    "}\n",
    "\n",
    "formula_2 = county_suitability.copy()\n",
    "# Multiply each factor by its weight\n",
    "for factor, weight in factors_plus_weights.items():\n",
    "    formula_2[factor] = formula_2[factor] * weight\n",
    "    \n",
    "# sum the factors\n",
    "formula_2 = formula_2[factors].sum(axis=1).div(sum(factors_plus_weights.values()))\n",
    "df_formula_2 = pd.DataFrame({\"fips\": county_suitability['fips'], \"suitability\": formula_2})"
   ]
  },
  {
   "cell_type": "code",
   "execution_count": null,
   "metadata": {},
   "outputs": [],
   "source": [
    "import plotly.express as px\n",
    "import plotly.graph_objects as go\n",
    "\n",
    "# custom color scale\n",
    "pubu_color_scale = [\n",
    "    (0.00, \"#f7fcfd\"),  # Very Light Blue (Unsuitable)\n",
    "    (0.01, \"#e0ecf4\"), (0.40, \"#e0ecf4\"),  # Light Cyan\n",
    "    (0.41, \"#bfd3e6\"), (0.50, \"#bfd3e6\"),  # Sky Blue\n",
    "    (0.51, \"#9ebcda\"), (0.60, \"#9ebcda\"),  # Light Blue\n",
    "    (0.61, \"#8c96c6\"), (0.70, \"#8c96c6\"),  # Moderate Blue\n",
    "    (0.71, \"#8c6bb1\"), (0.80, \"#8c6bb1\"),  # Dark Teal\n",
    "    (0.81, \"#88419d\"), (0.90, \"#88419d\"),  # Deep Purple-Blue\n",
    "    (0.91, \"#4a1486\"), (1.00, \"#4a1486\")   # Very Dark Blue\n",
    "]\n",
    "\n",
    "# Create the choropleth map\n",
    "fig = px.choropleth(\n",
    "    df_formula_2,\n",
    "    geojson=counties,\n",
    "    locations='fips',  # Column in df that matches GeoJSON IDs\n",
    "    color='suitability',  # Column to plot\n",
    "    color_continuous_scale=pubu_color_scale,  # Custom color scale\n",
    "    range_color=(0, 100),\n",
    "    scope=\"usa\",  # Focus on the United States    \n",
    ")\n",
    "\n",
    "fig.update_traces(marker_line_width=0)  # Remove county borders\n",
    "\n",
    "# Overlay state boundaries\n",
    "fig.add_trace(go.Choropleth(\n",
    "    geojson=states,  # Use the state-level GeoJSON\n",
    "    locations=[feature[\"id\"] for feature in states[\"features\"]],  # State IDs\n",
    "    z=[0] * len(states[\"features\"]),  # Dummy data to avoid coloring\n",
    "    colorscale=[[0, \"rgba(0,0,0,0)\"], [1, \"rgba(0,0,0,0)\"]],  # Transparent fill\n",
    "    showscale=False,\n",
    "    marker=dict(line=dict(color='black', width=1.5)),  # Black state boundaries\n",
    "))\n",
    "\n",
    "# Update layout and map appearance\n",
    "fig.update_geos(\n",
    "    fitbounds=\"locations\",  # Auto-zoom based on data\n",
    "    visible=False  # Hide base map\n",
    ")\n",
    "\n",
    "fig.update_layout(\n",
    "    margin={\"r\": 0, \"t\": 0, \"l\": 0, \"b\": 0},\n",
    ")\n",
    "\n",
    "# add state points px.scatter_geo(solar, lat=\"latitude\", lon=\"longitude\", scope=\"usa\", color=\"statename\")\n",
    "len_scatter = len(px.scatter_geo(solar, lat=\"latitude\", lon=\"longitude\", scope=\"usa\", size=\"total_mw\").data)\n",
    "for i in range(len_scatter):\n",
    "    fig.add_trace(\n",
    "        px.scatter_geo(solar, lat=\"latitude\", lon=\"longitude\", scope=\"usa\", size=\"total_mw\", color_discrete_sequence=px.colors.qualitative.Light24).data[i]\n",
    "    )\n",
    "\n",
    "# Don't show the legend for the scatter points\n",
    "fig.update_layout(showlegend=False)\n",
    "\n",
    "\n",
    "fig.show()"
   ]
  },
  {
   "cell_type": "code",
   "execution_count": null,
   "metadata": {},
   "outputs": [],
   "source": []
  },
  {
   "cell_type": "code",
   "execution_count": null,
   "metadata": {},
   "outputs": [],
   "source": []
  },
  {
   "cell_type": "code",
   "execution_count": null,
   "metadata": {},
   "outputs": [],
   "source": []
  },
  {
   "cell_type": "code",
   "execution_count": null,
   "metadata": {},
   "outputs": [],
   "source": []
  },
  {
   "cell_type": "code",
   "execution_count": null,
   "metadata": {},
   "outputs": [],
   "source": []
  },
  {
   "cell_type": "code",
   "execution_count": null,
   "metadata": {},
   "outputs": [],
   "source": []
  },
  {
   "cell_type": "code",
   "execution_count": null,
   "metadata": {},
   "outputs": [],
   "source": []
  },
  {
   "cell_type": "code",
   "execution_count": null,
   "metadata": {},
   "outputs": [],
   "source": []
  }
 ],
 "metadata": {
  "kernelspec": {
   "display_name": "base",
   "language": "python",
   "name": "python3"
  },
  "language_info": {
   "codemirror_mode": {
    "name": "ipython",
    "version": 3
   },
   "file_extension": ".py",
   "mimetype": "text/x-python",
   "name": "python",
   "nbconvert_exporter": "python",
   "pygments_lexer": "ipython3",
   "version": "3.10.15"
  }
 },
 "nbformat": 4,
 "nbformat_minor": 2
}
