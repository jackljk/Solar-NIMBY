{
 "cells": [
  {
   "cell_type": "code",
   "execution_count": null,
   "metadata": {},
   "outputs": [],
   "source": [
    "import pandas as pd\n",
    "import numpy as np\n",
    "import geopandas as gpd"
   ]
  },
  {
   "cell_type": "markdown",
   "metadata": {},
   "source": [
    "## Downloading Bouding Boxes to match Jenny's Countys to a STATEFP code"
   ]
  },
  {
   "cell_type": "code",
   "execution_count": null,
   "metadata": {},
   "outputs": [],
   "source": [
    "county_bounding_boxes = pd.read_csv('https://gist.githubusercontent.com/a8dx/7e550680f7ea6a68f20da00e21d7ce9b/raw/5f88f425bb362f8e200456fb8181ecb0a8fd55d6/US_County_Boundingboxes.csv')\n",
    "\n",
    "states_to_drop = ['American Samoa', 'Puerto Rico', 'Alaska', 'Hawaii', 'Commonwealth of the Northern Mariana Islands', 'United States Virgin Islands', 'Guam']\n",
    "\n",
    "county_bounding_boxes = county_bounding_boxes[~county_bounding_boxes['STATE_NAME'].isin(states_to_drop)]\n",
    "county_bounding_boxes.head()"
   ]
  },
  {
   "cell_type": "markdown",
   "metadata": {},
   "source": [
    "## Read in shapefile of Census bounding boxes to get exact shapely polygons for each county"
   ]
  },
  {
   "cell_type": "code",
   "execution_count": null,
   "metadata": {},
   "outputs": [],
   "source": [
    "county_bounding_boxes_full = gpd.read_file('US County Boundary 2018/cb_2018_us_county_500k.shp')\n",
    "county_bounding_boxes_full['STATEFP'] = county_bounding_boxes_full['STATEFP'].astype(int)\n",
    "county_bounding_boxes_full.head()"
   ]
  },
  {
   "cell_type": "markdown",
   "metadata": {},
   "source": [
    "## Merge both dataframes on STATEFP"
   ]
  },
  {
   "cell_type": "code",
   "execution_count": null,
   "metadata": {},
   "outputs": [],
   "source": [
    "county_bounding_boxes_full = county_bounding_boxes_full.merge(county_bounding_boxes[['STATE_NAME', 'STATEFP']].drop_duplicates(), left_on='STATEFP', right_on='STATEFP')\n",
    "county_bounding_boxes_full.head()"
   ]
  },
  {
   "cell_type": "markdown",
   "metadata": {},
   "source": [
    "## Calculate the area of each county polygon\n",
    "- epsg 5070 is the projection used by to get the exact area of each county polygon without distortion for the US"
   ]
  },
  {
   "cell_type": "code",
   "execution_count": null,
   "metadata": {},
   "outputs": [],
   "source": [
    "# Calculate the area of each county\n",
    "county_bounding_boxes_full['area km2'] = county_bounding_boxes_full['geometry'].to_crs(epsg=5070).map(lambda p: p.area / 10**6)\n",
    "# sort the counties by StateFP and CountyFP\n",
    "county_bounding_boxes_full = county_bounding_boxes_full.sort_values(['STATEFP', 'COUNTYFP'])\n",
    "# get sq mile area\n",
    "county_bounding_boxes_full['area mi2'] = county_bounding_boxes_full['area km2'] * 0.386102\n",
    "county_bounding_boxes_full.head()"
   ]
  },
  {
   "cell_type": "markdown",
   "metadata": {},
   "source": [
    "## Get relavant columns and Remove Duplicate counties"
   ]
  },
  {
   "cell_type": "code",
   "execution_count": null,
   "metadata": {},
   "outputs": [],
   "source": [
    "county_bounding_boxes_full = county_bounding_boxes_full[[\n",
    "    \"GEOID\", \"STATE_NAME\", \"NAME\", \"area km2\", \"area mi2\" \n",
    "]]\n",
    "county_bounding_boxes_full = county_bounding_boxes_full.rename(columns={\n",
    "    \"STATE_NAME\": \"state\",\n",
    "    \"NAME\": \"county\",\n",
    "})\n",
    "\n",
    "# find all the state county pairs that are duplicated\n",
    "county_bounding_boxes_full[county_bounding_boxes_full.duplicated(subset=['state', 'county'], keep=False)].sort_values(['state', 'county'])\n",
    "\n",
    "county_bounding_boxes_full.head()"
   ]
  },
  {
   "cell_type": "code",
   "execution_count": null,
   "metadata": {},
   "outputs": [],
   "source": [
    "# index of the duplicate cases that are incorrect (checked the area one by one by hand)\n",
    "idxs = [1703, 1318, 2646, 2617, 2626, 2605]\n",
    "county_bounding_boxes_full = county_bounding_boxes_full.drop(idxs)"
   ]
  },
  {
   "cell_type": "markdown",
   "metadata": {},
   "source": [
    "## Save to CSV"
   ]
  },
  {
   "cell_type": "code",
   "execution_count": null,
   "metadata": {},
   "outputs": [],
   "source": [
    "# county_bounding_boxes_full.to_csv(\"fixed_BB/county_bounding_boxes_full.csv\", index=False)"
   ]
  }
 ],
 "metadata": {
  "kernelspec": {
   "display_name": "base",
   "language": "python",
   "name": "python3"
  },
  "language_info": {
   "codemirror_mode": {
    "name": "ipython",
    "version": 3
   },
   "file_extension": ".py",
   "mimetype": "text/x-python",
   "name": "python",
   "nbconvert_exporter": "python",
   "pygments_lexer": "ipython3",
   "version": "3.1.-1"
  }
 },
 "nbformat": 4,
 "nbformat_minor": 2
}
